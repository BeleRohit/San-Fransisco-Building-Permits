{
 "cells": [
  {
   "cell_type": "code",
   "execution_count": 2,
   "metadata": {
    "execution": {
     "iopub.execute_input": "2020-11-16T12:50:54.378009Z",
     "iopub.status.busy": "2020-11-16T12:50:54.377153Z",
     "iopub.status.idle": "2020-11-16T12:50:55.655216Z",
     "shell.execute_reply": "2020-11-16T12:50:55.654401Z"
    },
    "papermill": {
     "duration": 1.382018,
     "end_time": "2020-11-16T12:50:55.655383",
     "exception": false,
     "start_time": "2020-11-16T12:50:54.273365",
     "status": "completed"
    },
    "tags": []
   },
   "outputs": [],
   "source": [
    "# Importation of Data manipulation libraries\n",
    "import pandas as pd\n",
    "import numpy as np\n",
    "# Importation of visualisation libraries\n",
    "from matplotlib import pyplot as plt\n",
    "%matplotlib inline\n",
    "import seaborn as sns\n",
    "\n",
    "import warnings\n",
    "warnings.filterwarnings(\"ignore\")"
   ]
  },
  {
   "cell_type": "markdown",
   "metadata": {
    "papermill": {
     "duration": 0.090101,
     "end_time": "2020-11-16T12:50:55.836536",
     "exception": false,
     "start_time": "2020-11-16T12:50:55.746435",
     "status": "completed"
    },
    "tags": []
   },
   "source": [
    "The Objective of this task is to predict permit issue times of various building permits so as to identify which ones matter more and also be able to draw conclusions on the city's development plans based on the San Francisco Building Permits data.\n",
    "It's a Regression problems since the permit issue time will be a continuous variable.\n",
    "It's a supervised Machine learning problem since we have access to the features and the target variable"
   ]
  },
  {
   "cell_type": "code",
   "execution_count": 3,
   "metadata": {
    "_cell_guid": "79c7e3d0-c299-4dcb-8224-4455121ee9b0",
    "_uuid": "d629ff2d2480ee46fbb7e2d37f6b5fab8052498a",
    "execution": {
     "iopub.execute_input": "2020-11-16T12:50:56.029680Z",
     "iopub.status.busy": "2020-11-16T12:50:56.028849Z",
     "iopub.status.idle": "2020-11-16T12:50:58.424062Z",
     "shell.execute_reply": "2020-11-16T12:50:58.423425Z"
    },
    "papermill": {
     "duration": 2.49717,
     "end_time": "2020-11-16T12:50:58.424197",
     "exception": false,
     "start_time": "2020-11-16T12:50:55.927027",
     "status": "completed"
    },
    "tags": []
   },
   "outputs": [],
   "source": [
    "pd.set_option('display.max_columns',None)\n",
    "df = pd.read_csv('Building_Permits.csv',\n",
    "                      index_col='Permit Number',parse_dates=['Filed Date','Issued Date'])"
   ]
  },
  {
   "cell_type": "code",
   "execution_count": 4,
   "metadata": {
    "execution": {
     "iopub.execute_input": "2020-11-16T12:50:58.634098Z",
     "iopub.status.busy": "2020-11-16T12:50:58.630806Z",
     "iopub.status.idle": "2020-11-16T12:50:58.664328Z",
     "shell.execute_reply": "2020-11-16T12:50:58.664901Z"
    },
    "papermill": {
     "duration": 0.15126,
     "end_time": "2020-11-16T12:50:58.665064",
     "exception": false,
     "start_time": "2020-11-16T12:50:58.513804",
     "status": "completed"
    },
    "tags": []
   },
   "outputs": [
    {
     "data": {
      "text/html": [
       "<div>\n",
       "<style scoped>\n",
       "    .dataframe tbody tr th:only-of-type {\n",
       "        vertical-align: middle;\n",
       "    }\n",
       "\n",
       "    .dataframe tbody tr th {\n",
       "        vertical-align: top;\n",
       "    }\n",
       "\n",
       "    .dataframe thead th {\n",
       "        text-align: right;\n",
       "    }\n",
       "</style>\n",
       "<table border=\"1\" class=\"dataframe\">\n",
       "  <thead>\n",
       "    <tr style=\"text-align: right;\">\n",
       "      <th></th>\n",
       "      <th>Permit Type</th>\n",
       "      <th>Permit Type Definition</th>\n",
       "      <th>Permit Creation Date</th>\n",
       "      <th>Block</th>\n",
       "      <th>Lot</th>\n",
       "      <th>Street Number</th>\n",
       "      <th>Street Number Suffix</th>\n",
       "      <th>Street Name</th>\n",
       "      <th>Street Suffix</th>\n",
       "      <th>Unit</th>\n",
       "      <th>Unit Suffix</th>\n",
       "      <th>Description</th>\n",
       "      <th>Current Status</th>\n",
       "      <th>Current Status Date</th>\n",
       "      <th>Filed Date</th>\n",
       "      <th>Issued Date</th>\n",
       "      <th>Completed Date</th>\n",
       "      <th>First Construction Document Date</th>\n",
       "      <th>Structural Notification</th>\n",
       "      <th>Number of Existing Stories</th>\n",
       "      <th>Number of Proposed Stories</th>\n",
       "      <th>Voluntary Soft-Story Retrofit</th>\n",
       "      <th>Fire Only Permit</th>\n",
       "      <th>Permit Expiration Date</th>\n",
       "      <th>Estimated Cost</th>\n",
       "      <th>Revised Cost</th>\n",
       "      <th>Existing Use</th>\n",
       "      <th>Existing Units</th>\n",
       "      <th>Proposed Use</th>\n",
       "      <th>Proposed Units</th>\n",
       "      <th>Plansets</th>\n",
       "      <th>TIDF Compliance</th>\n",
       "      <th>Existing Construction Type</th>\n",
       "      <th>Existing Construction Type Description</th>\n",
       "      <th>Proposed Construction Type</th>\n",
       "      <th>Proposed Construction Type Description</th>\n",
       "      <th>Site Permit</th>\n",
       "      <th>Supervisor District</th>\n",
       "      <th>Neighborhoods - Analysis Boundaries</th>\n",
       "      <th>Zipcode</th>\n",
       "      <th>Location</th>\n",
       "      <th>Record ID</th>\n",
       "    </tr>\n",
       "    <tr>\n",
       "      <th>Permit Number</th>\n",
       "      <th></th>\n",
       "      <th></th>\n",
       "      <th></th>\n",
       "      <th></th>\n",
       "      <th></th>\n",
       "      <th></th>\n",
       "      <th></th>\n",
       "      <th></th>\n",
       "      <th></th>\n",
       "      <th></th>\n",
       "      <th></th>\n",
       "      <th></th>\n",
       "      <th></th>\n",
       "      <th></th>\n",
       "      <th></th>\n",
       "      <th></th>\n",
       "      <th></th>\n",
       "      <th></th>\n",
       "      <th></th>\n",
       "      <th></th>\n",
       "      <th></th>\n",
       "      <th></th>\n",
       "      <th></th>\n",
       "      <th></th>\n",
       "      <th></th>\n",
       "      <th></th>\n",
       "      <th></th>\n",
       "      <th></th>\n",
       "      <th></th>\n",
       "      <th></th>\n",
       "      <th></th>\n",
       "      <th></th>\n",
       "      <th></th>\n",
       "      <th></th>\n",
       "      <th></th>\n",
       "      <th></th>\n",
       "      <th></th>\n",
       "      <th></th>\n",
       "      <th></th>\n",
       "      <th></th>\n",
       "      <th></th>\n",
       "      <th></th>\n",
       "    </tr>\n",
       "  </thead>\n",
       "  <tbody>\n",
       "    <tr>\n",
       "      <th>201505065519</th>\n",
       "      <td>4</td>\n",
       "      <td>sign - erect</td>\n",
       "      <td>05/06/2015</td>\n",
       "      <td>0326</td>\n",
       "      <td>023</td>\n",
       "      <td>140</td>\n",
       "      <td>NaN</td>\n",
       "      <td>Ellis</td>\n",
       "      <td>St</td>\n",
       "      <td>NaN</td>\n",
       "      <td>NaN</td>\n",
       "      <td>ground fl facade: to erect illuminated, electr...</td>\n",
       "      <td>expired</td>\n",
       "      <td>12/21/2017</td>\n",
       "      <td>2015-05-06</td>\n",
       "      <td>2015-11-09</td>\n",
       "      <td>NaN</td>\n",
       "      <td>11/09/2015</td>\n",
       "      <td>NaN</td>\n",
       "      <td>6.0</td>\n",
       "      <td>NaN</td>\n",
       "      <td>NaN</td>\n",
       "      <td>NaN</td>\n",
       "      <td>11/03/2016</td>\n",
       "      <td>4000.0</td>\n",
       "      <td>4000.0</td>\n",
       "      <td>tourist hotel/motel</td>\n",
       "      <td>143.0</td>\n",
       "      <td>NaN</td>\n",
       "      <td>NaN</td>\n",
       "      <td>2.0</td>\n",
       "      <td>NaN</td>\n",
       "      <td>3.0</td>\n",
       "      <td>constr type 3</td>\n",
       "      <td>NaN</td>\n",
       "      <td>NaN</td>\n",
       "      <td>NaN</td>\n",
       "      <td>3.0</td>\n",
       "      <td>Tenderloin</td>\n",
       "      <td>94102.0</td>\n",
       "      <td>(37.785719256680785, -122.40852313194863)</td>\n",
       "      <td>1380611233945</td>\n",
       "    </tr>\n",
       "    <tr>\n",
       "      <th>201604195146</th>\n",
       "      <td>4</td>\n",
       "      <td>sign - erect</td>\n",
       "      <td>04/19/2016</td>\n",
       "      <td>0306</td>\n",
       "      <td>007</td>\n",
       "      <td>440</td>\n",
       "      <td>NaN</td>\n",
       "      <td>Geary</td>\n",
       "      <td>St</td>\n",
       "      <td>0.0</td>\n",
       "      <td>NaN</td>\n",
       "      <td>remove (e) awning and associated signs.</td>\n",
       "      <td>issued</td>\n",
       "      <td>08/03/2017</td>\n",
       "      <td>2016-04-19</td>\n",
       "      <td>2017-08-03</td>\n",
       "      <td>NaN</td>\n",
       "      <td>08/03/2017</td>\n",
       "      <td>NaN</td>\n",
       "      <td>7.0</td>\n",
       "      <td>NaN</td>\n",
       "      <td>NaN</td>\n",
       "      <td>NaN</td>\n",
       "      <td>12/03/2017</td>\n",
       "      <td>1.0</td>\n",
       "      <td>500.0</td>\n",
       "      <td>tourist hotel/motel</td>\n",
       "      <td>NaN</td>\n",
       "      <td>NaN</td>\n",
       "      <td>NaN</td>\n",
       "      <td>2.0</td>\n",
       "      <td>NaN</td>\n",
       "      <td>3.0</td>\n",
       "      <td>constr type 3</td>\n",
       "      <td>NaN</td>\n",
       "      <td>NaN</td>\n",
       "      <td>NaN</td>\n",
       "      <td>3.0</td>\n",
       "      <td>Tenderloin</td>\n",
       "      <td>94102.0</td>\n",
       "      <td>(37.78733980600732, -122.41063199757738)</td>\n",
       "      <td>1420164406718</td>\n",
       "    </tr>\n",
       "    <tr>\n",
       "      <th>201605278609</th>\n",
       "      <td>3</td>\n",
       "      <td>additions alterations or repairs</td>\n",
       "      <td>05/27/2016</td>\n",
       "      <td>0595</td>\n",
       "      <td>203</td>\n",
       "      <td>1647</td>\n",
       "      <td>NaN</td>\n",
       "      <td>Pacific</td>\n",
       "      <td>Av</td>\n",
       "      <td>NaN</td>\n",
       "      <td>NaN</td>\n",
       "      <td>installation of separating wall</td>\n",
       "      <td>withdrawn</td>\n",
       "      <td>09/26/2017</td>\n",
       "      <td>2016-05-27</td>\n",
       "      <td>NaT</td>\n",
       "      <td>NaN</td>\n",
       "      <td>NaN</td>\n",
       "      <td>NaN</td>\n",
       "      <td>6.0</td>\n",
       "      <td>6.0</td>\n",
       "      <td>NaN</td>\n",
       "      <td>NaN</td>\n",
       "      <td>NaN</td>\n",
       "      <td>20000.0</td>\n",
       "      <td>NaN</td>\n",
       "      <td>retail sales</td>\n",
       "      <td>39.0</td>\n",
       "      <td>retail sales</td>\n",
       "      <td>39.0</td>\n",
       "      <td>2.0</td>\n",
       "      <td>NaN</td>\n",
       "      <td>1.0</td>\n",
       "      <td>constr type 1</td>\n",
       "      <td>1.0</td>\n",
       "      <td>constr type 1</td>\n",
       "      <td>NaN</td>\n",
       "      <td>3.0</td>\n",
       "      <td>Russian Hill</td>\n",
       "      <td>94109.0</td>\n",
       "      <td>(37.7946573324287, -122.42232562979227)</td>\n",
       "      <td>1424856504716</td>\n",
       "    </tr>\n",
       "    <tr>\n",
       "      <th>201611072166</th>\n",
       "      <td>8</td>\n",
       "      <td>otc alterations permit</td>\n",
       "      <td>11/07/2016</td>\n",
       "      <td>0156</td>\n",
       "      <td>011</td>\n",
       "      <td>1230</td>\n",
       "      <td>NaN</td>\n",
       "      <td>Pacific</td>\n",
       "      <td>Av</td>\n",
       "      <td>0.0</td>\n",
       "      <td>NaN</td>\n",
       "      <td>repair dryrot &amp; stucco at front of bldg.</td>\n",
       "      <td>complete</td>\n",
       "      <td>07/24/2017</td>\n",
       "      <td>2016-11-07</td>\n",
       "      <td>2017-07-18</td>\n",
       "      <td>07/24/2017</td>\n",
       "      <td>07/18/2017</td>\n",
       "      <td>NaN</td>\n",
       "      <td>2.0</td>\n",
       "      <td>2.0</td>\n",
       "      <td>NaN</td>\n",
       "      <td>NaN</td>\n",
       "      <td>07/13/2018</td>\n",
       "      <td>2000.0</td>\n",
       "      <td>2000.0</td>\n",
       "      <td>1 family dwelling</td>\n",
       "      <td>1.0</td>\n",
       "      <td>1 family dwelling</td>\n",
       "      <td>1.0</td>\n",
       "      <td>2.0</td>\n",
       "      <td>NaN</td>\n",
       "      <td>5.0</td>\n",
       "      <td>wood frame (5)</td>\n",
       "      <td>5.0</td>\n",
       "      <td>wood frame (5)</td>\n",
       "      <td>NaN</td>\n",
       "      <td>3.0</td>\n",
       "      <td>Nob Hill</td>\n",
       "      <td>94109.0</td>\n",
       "      <td>(37.79595867909168, -122.41557405519474)</td>\n",
       "      <td>1443574295566</td>\n",
       "    </tr>\n",
       "    <tr>\n",
       "      <th>201611283529</th>\n",
       "      <td>6</td>\n",
       "      <td>demolitions</td>\n",
       "      <td>11/28/2016</td>\n",
       "      <td>0342</td>\n",
       "      <td>001</td>\n",
       "      <td>950</td>\n",
       "      <td>NaN</td>\n",
       "      <td>Market</td>\n",
       "      <td>St</td>\n",
       "      <td>NaN</td>\n",
       "      <td>NaN</td>\n",
       "      <td>demolish retail/office/commercial 3-story buil...</td>\n",
       "      <td>issued</td>\n",
       "      <td>12/01/2017</td>\n",
       "      <td>2016-11-28</td>\n",
       "      <td>2017-12-01</td>\n",
       "      <td>NaN</td>\n",
       "      <td>11/20/2017</td>\n",
       "      <td>NaN</td>\n",
       "      <td>3.0</td>\n",
       "      <td>NaN</td>\n",
       "      <td>NaN</td>\n",
       "      <td>NaN</td>\n",
       "      <td>12/01/2018</td>\n",
       "      <td>100000.0</td>\n",
       "      <td>100000.0</td>\n",
       "      <td>retail sales</td>\n",
       "      <td>NaN</td>\n",
       "      <td>NaN</td>\n",
       "      <td>NaN</td>\n",
       "      <td>2.0</td>\n",
       "      <td>NaN</td>\n",
       "      <td>3.0</td>\n",
       "      <td>constr type 3</td>\n",
       "      <td>NaN</td>\n",
       "      <td>NaN</td>\n",
       "      <td>NaN</td>\n",
       "      <td>6.0</td>\n",
       "      <td>Tenderloin</td>\n",
       "      <td>94102.0</td>\n",
       "      <td>(37.78315261897309, -122.40950883997789)</td>\n",
       "      <td>144548169992</td>\n",
       "    </tr>\n",
       "  </tbody>\n",
       "</table>\n",
       "</div>"
      ],
      "text/plain": [
       "               Permit Type            Permit Type Definition  \\\n",
       "Permit Number                                                  \n",
       "201505065519             4                      sign - erect   \n",
       "201604195146             4                      sign - erect   \n",
       "201605278609             3  additions alterations or repairs   \n",
       "201611072166             8            otc alterations permit   \n",
       "201611283529             6                       demolitions   \n",
       "\n",
       "              Permit Creation Date Block  Lot  Street Number  \\\n",
       "Permit Number                                                  \n",
       "201505065519            05/06/2015  0326  023            140   \n",
       "201604195146            04/19/2016  0306  007            440   \n",
       "201605278609            05/27/2016  0595  203           1647   \n",
       "201611072166            11/07/2016  0156  011           1230   \n",
       "201611283529            11/28/2016  0342  001            950   \n",
       "\n",
       "              Street Number Suffix Street Name Street Suffix  Unit  \\\n",
       "Permit Number                                                        \n",
       "201505065519                   NaN       Ellis            St   NaN   \n",
       "201604195146                   NaN       Geary            St   0.0   \n",
       "201605278609                   NaN     Pacific            Av   NaN   \n",
       "201611072166                   NaN     Pacific            Av   0.0   \n",
       "201611283529                   NaN      Market            St   NaN   \n",
       "\n",
       "              Unit Suffix                                        Description  \\\n",
       "Permit Number                                                                  \n",
       "201505065519          NaN  ground fl facade: to erect illuminated, electr...   \n",
       "201604195146          NaN            remove (e) awning and associated signs.   \n",
       "201605278609          NaN                    installation of separating wall   \n",
       "201611072166          NaN           repair dryrot & stucco at front of bldg.   \n",
       "201611283529          NaN  demolish retail/office/commercial 3-story buil...   \n",
       "\n",
       "              Current Status Current Status Date Filed Date Issued Date  \\\n",
       "Permit Number                                                             \n",
       "201505065519         expired          12/21/2017 2015-05-06  2015-11-09   \n",
       "201604195146          issued          08/03/2017 2016-04-19  2017-08-03   \n",
       "201605278609       withdrawn          09/26/2017 2016-05-27         NaT   \n",
       "201611072166        complete          07/24/2017 2016-11-07  2017-07-18   \n",
       "201611283529          issued          12/01/2017 2016-11-28  2017-12-01   \n",
       "\n",
       "              Completed Date First Construction Document Date  \\\n",
       "Permit Number                                                   \n",
       "201505065519             NaN                       11/09/2015   \n",
       "201604195146             NaN                       08/03/2017   \n",
       "201605278609             NaN                              NaN   \n",
       "201611072166      07/24/2017                       07/18/2017   \n",
       "201611283529             NaN                       11/20/2017   \n",
       "\n",
       "              Structural Notification  Number of Existing Stories  \\\n",
       "Permit Number                                                       \n",
       "201505065519                      NaN                         6.0   \n",
       "201604195146                      NaN                         7.0   \n",
       "201605278609                      NaN                         6.0   \n",
       "201611072166                      NaN                         2.0   \n",
       "201611283529                      NaN                         3.0   \n",
       "\n",
       "               Number of Proposed Stories Voluntary Soft-Story Retrofit  \\\n",
       "Permit Number                                                             \n",
       "201505065519                          NaN                           NaN   \n",
       "201604195146                          NaN                           NaN   \n",
       "201605278609                          6.0                           NaN   \n",
       "201611072166                          2.0                           NaN   \n",
       "201611283529                          NaN                           NaN   \n",
       "\n",
       "              Fire Only Permit Permit Expiration Date  Estimated Cost  \\\n",
       "Permit Number                                                           \n",
       "201505065519               NaN             11/03/2016          4000.0   \n",
       "201604195146               NaN             12/03/2017             1.0   \n",
       "201605278609               NaN                    NaN         20000.0   \n",
       "201611072166               NaN             07/13/2018          2000.0   \n",
       "201611283529               NaN             12/01/2018        100000.0   \n",
       "\n",
       "               Revised Cost         Existing Use  Existing Units  \\\n",
       "Permit Number                                                      \n",
       "201505065519         4000.0  tourist hotel/motel           143.0   \n",
       "201604195146          500.0  tourist hotel/motel             NaN   \n",
       "201605278609            NaN         retail sales            39.0   \n",
       "201611072166         2000.0    1 family dwelling             1.0   \n",
       "201611283529       100000.0         retail sales             NaN   \n",
       "\n",
       "                    Proposed Use  Proposed Units  Plansets TIDF Compliance  \\\n",
       "Permit Number                                                                \n",
       "201505065519                 NaN             NaN       2.0             NaN   \n",
       "201604195146                 NaN             NaN       2.0             NaN   \n",
       "201605278609        retail sales            39.0       2.0             NaN   \n",
       "201611072166   1 family dwelling             1.0       2.0             NaN   \n",
       "201611283529                 NaN             NaN       2.0             NaN   \n",
       "\n",
       "               Existing Construction Type  \\\n",
       "Permit Number                               \n",
       "201505065519                          3.0   \n",
       "201604195146                          3.0   \n",
       "201605278609                          1.0   \n",
       "201611072166                          5.0   \n",
       "201611283529                          3.0   \n",
       "\n",
       "              Existing Construction Type Description  \\\n",
       "Permit Number                                          \n",
       "201505065519                           constr type 3   \n",
       "201604195146                           constr type 3   \n",
       "201605278609                           constr type 1   \n",
       "201611072166                          wood frame (5)   \n",
       "201611283529                           constr type 3   \n",
       "\n",
       "               Proposed Construction Type  \\\n",
       "Permit Number                               \n",
       "201505065519                          NaN   \n",
       "201604195146                          NaN   \n",
       "201605278609                          1.0   \n",
       "201611072166                          5.0   \n",
       "201611283529                          NaN   \n",
       "\n",
       "              Proposed Construction Type Description Site Permit  \\\n",
       "Permit Number                                                      \n",
       "201505065519                                     NaN         NaN   \n",
       "201604195146                                     NaN         NaN   \n",
       "201605278609                           constr type 1         NaN   \n",
       "201611072166                          wood frame (5)         NaN   \n",
       "201611283529                                     NaN         NaN   \n",
       "\n",
       "               Supervisor District Neighborhoods - Analysis Boundaries  \\\n",
       "Permit Number                                                            \n",
       "201505065519                   3.0                          Tenderloin   \n",
       "201604195146                   3.0                          Tenderloin   \n",
       "201605278609                   3.0                        Russian Hill   \n",
       "201611072166                   3.0                            Nob Hill   \n",
       "201611283529                   6.0                          Tenderloin   \n",
       "\n",
       "               Zipcode                                   Location  \\\n",
       "Permit Number                                                       \n",
       "201505065519   94102.0  (37.785719256680785, -122.40852313194863)   \n",
       "201604195146   94102.0   (37.78733980600732, -122.41063199757738)   \n",
       "201605278609   94109.0    (37.7946573324287, -122.42232562979227)   \n",
       "201611072166   94109.0   (37.79595867909168, -122.41557405519474)   \n",
       "201611283529   94102.0   (37.78315261897309, -122.40950883997789)   \n",
       "\n",
       "                   Record ID  \n",
       "Permit Number                 \n",
       "201505065519   1380611233945  \n",
       "201604195146   1420164406718  \n",
       "201605278609   1424856504716  \n",
       "201611072166   1443574295566  \n",
       "201611283529    144548169992  "
      ]
     },
     "execution_count": 4,
     "metadata": {},
     "output_type": "execute_result"
    }
   ],
   "source": [
    "#Phase 1:Data cleaning and formatting.\n",
    "df.head()"
   ]
  },
  {
   "cell_type": "code",
   "execution_count": null,
   "metadata": {},
   "outputs": [],
   "source": []
  },
  {
   "cell_type": "code",
   "execution_count": 5,
   "metadata": {
    "execution": {
     "iopub.execute_input": "2020-11-16T12:50:58.855864Z",
     "iopub.status.busy": "2020-11-16T12:50:58.854807Z",
     "iopub.status.idle": "2020-11-16T12:50:58.859203Z",
     "shell.execute_reply": "2020-11-16T12:50:58.858490Z"
    },
    "papermill": {
     "duration": 0.101022,
     "end_time": "2020-11-16T12:50:58.859339",
     "exception": false,
     "start_time": "2020-11-16T12:50:58.758317",
     "status": "completed"
    },
    "tags": []
   },
   "outputs": [
    {
     "data": {
      "text/plain": [
       "(198900, 42)"
      ]
     },
     "execution_count": 5,
     "metadata": {},
     "output_type": "execute_result"
    }
   ],
   "source": [
    "df.shape"
   ]
  },
  {
   "cell_type": "code",
   "execution_count": 6,
   "metadata": {
    "execution": {
     "iopub.execute_input": "2020-11-16T12:50:59.050532Z",
     "iopub.status.busy": "2020-11-16T12:50:59.049120Z",
     "iopub.status.idle": "2020-11-16T12:50:59.513944Z",
     "shell.execute_reply": "2020-11-16T12:50:59.513173Z"
    },
    "papermill": {
     "duration": 0.562341,
     "end_time": "2020-11-16T12:50:59.514068",
     "exception": false,
     "start_time": "2020-11-16T12:50:58.951727",
     "status": "completed"
    },
    "tags": []
   },
   "outputs": [
    {
     "name": "stdout",
     "output_type": "stream",
     "text": [
      "<class 'pandas.core.frame.DataFrame'>\n",
      "Index: 198900 entries, 201505065519 to M864287\n",
      "Data columns (total 42 columns):\n",
      " #   Column                                  Non-Null Count   Dtype         \n",
      "---  ------                                  --------------   -----         \n",
      " 0   Permit Type                             198900 non-null  int64         \n",
      " 1   Permit Type Definition                  198900 non-null  object        \n",
      " 2   Permit Creation Date                    198900 non-null  object        \n",
      " 3   Block                                   198900 non-null  object        \n",
      " 4   Lot                                     198900 non-null  object        \n",
      " 5   Street Number                           198900 non-null  int64         \n",
      " 6   Street Number Suffix                    2216 non-null    object        \n",
      " 7   Street Name                             198900 non-null  object        \n",
      " 8   Street Suffix                           196132 non-null  object        \n",
      " 9   Unit                                    29479 non-null   float64       \n",
      " 10  Unit Suffix                             1961 non-null    object        \n",
      " 11  Description                             198610 non-null  object        \n",
      " 12  Current Status                          198900 non-null  object        \n",
      " 13  Current Status Date                     198900 non-null  object        \n",
      " 14  Filed Date                              198900 non-null  datetime64[ns]\n",
      " 15  Issued Date                             183960 non-null  datetime64[ns]\n",
      " 16  Completed Date                          97191 non-null   object        \n",
      " 17  First Construction Document Date        183954 non-null  object        \n",
      " 18  Structural Notification                 6922 non-null    object        \n",
      " 19  Number of Existing Stories              156116 non-null  float64       \n",
      " 20  Number of Proposed Stories              156032 non-null  float64       \n",
      " 21  Voluntary Soft-Story Retrofit           35 non-null      object        \n",
      " 22  Fire Only Permit                        18827 non-null   object        \n",
      " 23  Permit Expiration Date                  147020 non-null  object        \n",
      " 24  Estimated Cost                          160834 non-null  float64       \n",
      " 25  Revised Cost                            192834 non-null  float64       \n",
      " 26  Existing Use                            157786 non-null  object        \n",
      " 27  Existing Units                          147362 non-null  float64       \n",
      " 28  Proposed Use                            156461 non-null  object        \n",
      " 29  Proposed Units                          147989 non-null  float64       \n",
      " 30  Plansets                                161591 non-null  float64       \n",
      " 31  TIDF Compliance                         2 non-null       object        \n",
      " 32  Existing Construction Type              155534 non-null  float64       \n",
      " 33  Existing Construction Type Description  155534 non-null  object        \n",
      " 34  Proposed Construction Type              155738 non-null  float64       \n",
      " 35  Proposed Construction Type Description  155738 non-null  object        \n",
      " 36  Site Permit                             5359 non-null    object        \n",
      " 37  Supervisor District                     197183 non-null  float64       \n",
      " 38  Neighborhoods - Analysis Boundaries     197175 non-null  object        \n",
      " 39  Zipcode                                 197184 non-null  float64       \n",
      " 40  Location                                197200 non-null  object        \n",
      " 41  Record ID                               198900 non-null  int64         \n",
      "dtypes: datetime64[ns](2), float64(12), int64(3), object(25)\n",
      "memory usage: 65.3+ MB\n"
     ]
    }
   ],
   "source": [
    "# Gives us some more information about the dataframe .\n",
    "df.info()"
   ]
  },
  {
   "cell_type": "code",
   "execution_count": 7,
   "metadata": {
    "execution": {
     "iopub.execute_input": "2020-11-16T12:50:59.706155Z",
     "iopub.status.busy": "2020-11-16T12:50:59.704846Z",
     "iopub.status.idle": "2020-11-16T12:51:00.157089Z",
     "shell.execute_reply": "2020-11-16T12:51:00.156427Z"
    },
    "papermill": {
     "duration": 0.550581,
     "end_time": "2020-11-16T12:51:00.157218",
     "exception": false,
     "start_time": "2020-11-16T12:50:59.606637",
     "status": "completed"
    },
    "tags": []
   },
   "outputs": [
    {
     "name": "stdout",
     "output_type": "stream",
     "text": [
      "Permit Type                                    0\n",
      "Permit Type Definition                         0\n",
      "Permit Creation Date                           0\n",
      "Block                                          0\n",
      "Lot                                            0\n",
      "Street Number                                  0\n",
      "Street Number Suffix                      196684\n",
      "Street Name                                    0\n",
      "Street Suffix                               2768\n",
      "Unit                                      169421\n",
      "Unit Suffix                               196939\n",
      "Description                                  290\n",
      "Current Status                                 0\n",
      "Current Status Date                            0\n",
      "Filed Date                                     0\n",
      "Issued Date                                14940\n",
      "Completed Date                            101709\n",
      "First Construction Document Date           14946\n",
      "Structural Notification                   191978\n",
      "Number of Existing Stories                 42784\n",
      "Number of Proposed Stories                 42868\n",
      "Voluntary Soft-Story Retrofit             198865\n",
      "Fire Only Permit                          180073\n",
      "Permit Expiration Date                     51880\n",
      "Estimated Cost                             38066\n",
      "Revised Cost                                6066\n",
      "Existing Use                               41114\n",
      "Existing Units                             51538\n",
      "Proposed Use                               42439\n",
      "Proposed Units                             50911\n",
      "Plansets                                   37309\n",
      "TIDF Compliance                           198898\n",
      "Existing Construction Type                 43366\n",
      "Existing Construction Type Description     43366\n",
      "Proposed Construction Type                 43162\n",
      "Proposed Construction Type Description     43162\n",
      "Site Permit                               193541\n",
      "Supervisor District                         1717\n",
      "Neighborhoods - Analysis Boundaries         1725\n",
      "Zipcode                                     1716\n",
      "Location                                    1700\n",
      "Record ID                                      0\n",
      "dtype: int64\n"
     ]
    }
   ],
   "source": [
    "#Exploring missing values\n",
    "missing_values_counts = df.isnull().sum()\n",
    "print(missing_values_counts)"
   ]
  },
  {
   "cell_type": "code",
   "execution_count": 8,
   "metadata": {
    "execution": {
     "iopub.execute_input": "2020-11-16T12:51:00.350626Z",
     "iopub.status.busy": "2020-11-16T12:51:00.349813Z",
     "iopub.status.idle": "2020-11-16T12:51:00.847810Z",
     "shell.execute_reply": "2020-11-16T12:51:00.847055Z"
    },
    "papermill": {
     "duration": 0.596444,
     "end_time": "2020-11-16T12:51:00.847932",
     "exception": false,
     "start_time": "2020-11-16T12:51:00.251488",
     "status": "completed"
    },
    "tags": []
   },
   "outputs": [
    {
     "data": {
      "text/html": [
       "<div>\n",
       "<style scoped>\n",
       "    .dataframe tbody tr th:only-of-type {\n",
       "        vertical-align: middle;\n",
       "    }\n",
       "\n",
       "    .dataframe tbody tr th {\n",
       "        vertical-align: top;\n",
       "    }\n",
       "\n",
       "    .dataframe thead th {\n",
       "        text-align: right;\n",
       "    }\n",
       "</style>\n",
       "<table border=\"1\" class=\"dataframe\">\n",
       "  <thead>\n",
       "    <tr style=\"text-align: right;\">\n",
       "      <th></th>\n",
       "      <th>Permit Type</th>\n",
       "      <th>Permit Type Definition</th>\n",
       "      <th>Permit Creation Date</th>\n",
       "      <th>Block</th>\n",
       "      <th>Lot</th>\n",
       "      <th>Street Number</th>\n",
       "      <th>Street Name</th>\n",
       "      <th>Current Status</th>\n",
       "      <th>Current Status Date</th>\n",
       "      <th>Filed Date</th>\n",
       "      <th>Record ID</th>\n",
       "    </tr>\n",
       "    <tr>\n",
       "      <th>Permit Number</th>\n",
       "      <th></th>\n",
       "      <th></th>\n",
       "      <th></th>\n",
       "      <th></th>\n",
       "      <th></th>\n",
       "      <th></th>\n",
       "      <th></th>\n",
       "      <th></th>\n",
       "      <th></th>\n",
       "      <th></th>\n",
       "      <th></th>\n",
       "    </tr>\n",
       "  </thead>\n",
       "  <tbody>\n",
       "    <tr>\n",
       "      <th>201505065519</th>\n",
       "      <td>4</td>\n",
       "      <td>sign - erect</td>\n",
       "      <td>05/06/2015</td>\n",
       "      <td>0326</td>\n",
       "      <td>023</td>\n",
       "      <td>140</td>\n",
       "      <td>Ellis</td>\n",
       "      <td>expired</td>\n",
       "      <td>12/21/2017</td>\n",
       "      <td>2015-05-06</td>\n",
       "      <td>1380611233945</td>\n",
       "    </tr>\n",
       "    <tr>\n",
       "      <th>201604195146</th>\n",
       "      <td>4</td>\n",
       "      <td>sign - erect</td>\n",
       "      <td>04/19/2016</td>\n",
       "      <td>0306</td>\n",
       "      <td>007</td>\n",
       "      <td>440</td>\n",
       "      <td>Geary</td>\n",
       "      <td>issued</td>\n",
       "      <td>08/03/2017</td>\n",
       "      <td>2016-04-19</td>\n",
       "      <td>1420164406718</td>\n",
       "    </tr>\n",
       "    <tr>\n",
       "      <th>201605278609</th>\n",
       "      <td>3</td>\n",
       "      <td>additions alterations or repairs</td>\n",
       "      <td>05/27/2016</td>\n",
       "      <td>0595</td>\n",
       "      <td>203</td>\n",
       "      <td>1647</td>\n",
       "      <td>Pacific</td>\n",
       "      <td>withdrawn</td>\n",
       "      <td>09/26/2017</td>\n",
       "      <td>2016-05-27</td>\n",
       "      <td>1424856504716</td>\n",
       "    </tr>\n",
       "    <tr>\n",
       "      <th>201611072166</th>\n",
       "      <td>8</td>\n",
       "      <td>otc alterations permit</td>\n",
       "      <td>11/07/2016</td>\n",
       "      <td>0156</td>\n",
       "      <td>011</td>\n",
       "      <td>1230</td>\n",
       "      <td>Pacific</td>\n",
       "      <td>complete</td>\n",
       "      <td>07/24/2017</td>\n",
       "      <td>2016-11-07</td>\n",
       "      <td>1443574295566</td>\n",
       "    </tr>\n",
       "    <tr>\n",
       "      <th>201611283529</th>\n",
       "      <td>6</td>\n",
       "      <td>demolitions</td>\n",
       "      <td>11/28/2016</td>\n",
       "      <td>0342</td>\n",
       "      <td>001</td>\n",
       "      <td>950</td>\n",
       "      <td>Market</td>\n",
       "      <td>issued</td>\n",
       "      <td>12/01/2017</td>\n",
       "      <td>2016-11-28</td>\n",
       "      <td>144548169992</td>\n",
       "    </tr>\n",
       "  </tbody>\n",
       "</table>\n",
       "</div>"
      ],
      "text/plain": [
       "               Permit Type            Permit Type Definition  \\\n",
       "Permit Number                                                  \n",
       "201505065519             4                      sign - erect   \n",
       "201604195146             4                      sign - erect   \n",
       "201605278609             3  additions alterations or repairs   \n",
       "201611072166             8            otc alterations permit   \n",
       "201611283529             6                       demolitions   \n",
       "\n",
       "              Permit Creation Date Block  Lot  Street Number Street Name  \\\n",
       "Permit Number                                                              \n",
       "201505065519            05/06/2015  0326  023            140       Ellis   \n",
       "201604195146            04/19/2016  0306  007            440       Geary   \n",
       "201605278609            05/27/2016  0595  203           1647     Pacific   \n",
       "201611072166            11/07/2016  0156  011           1230     Pacific   \n",
       "201611283529            11/28/2016  0342  001            950      Market   \n",
       "\n",
       "              Current Status Current Status Date Filed Date      Record ID  \n",
       "Permit Number                                                               \n",
       "201505065519         expired          12/21/2017 2015-05-06  1380611233945  \n",
       "201604195146          issued          08/03/2017 2016-04-19  1420164406718  \n",
       "201605278609       withdrawn          09/26/2017 2016-05-27  1424856504716  \n",
       "201611072166        complete          07/24/2017 2016-11-07  1443574295566  \n",
       "201611283529          issued          12/01/2017 2016-11-28   144548169992  "
      ]
     },
     "execution_count": 8,
     "metadata": {},
     "output_type": "execute_result"
    }
   ],
   "source": [
    "#if we were to drop columns with atleast one missing value\n",
    "columns_without_missing_values= df.dropna(axis=1)\n",
    "columns_without_missing_values.head()\n",
    "#Alot of data is lost. Out of 42 columns only 11 are retained, 31 columns are lost"
   ]
  },
  {
   "cell_type": "code",
   "execution_count": 9,
   "metadata": {
    "execution": {
     "iopub.execute_input": "2020-11-16T12:51:01.045429Z",
     "iopub.status.busy": "2020-11-16T12:51:01.044583Z",
     "iopub.status.idle": "2020-11-16T12:51:01.516757Z",
     "shell.execute_reply": "2020-11-16T12:51:01.516094Z"
    },
    "papermill": {
     "duration": 0.573945,
     "end_time": "2020-11-16T12:51:01.516884",
     "exception": false,
     "start_time": "2020-11-16T12:51:00.942939",
     "status": "completed"
    },
    "tags": []
   },
   "outputs": [
    {
     "data": {
      "text/html": [
       "<div>\n",
       "<style scoped>\n",
       "    .dataframe tbody tr th:only-of-type {\n",
       "        vertical-align: middle;\n",
       "    }\n",
       "\n",
       "    .dataframe tbody tr th {\n",
       "        vertical-align: top;\n",
       "    }\n",
       "\n",
       "    .dataframe thead th {\n",
       "        text-align: right;\n",
       "    }\n",
       "</style>\n",
       "<table border=\"1\" class=\"dataframe\">\n",
       "  <thead>\n",
       "    <tr style=\"text-align: right;\">\n",
       "      <th></th>\n",
       "      <th>Permit Type</th>\n",
       "      <th>Permit Type Definition</th>\n",
       "      <th>Permit Creation Date</th>\n",
       "      <th>Block</th>\n",
       "      <th>Lot</th>\n",
       "      <th>Street Number</th>\n",
       "      <th>Street Number Suffix</th>\n",
       "      <th>Street Name</th>\n",
       "      <th>Street Suffix</th>\n",
       "      <th>Unit</th>\n",
       "      <th>Unit Suffix</th>\n",
       "      <th>Description</th>\n",
       "      <th>Current Status</th>\n",
       "      <th>Current Status Date</th>\n",
       "      <th>Filed Date</th>\n",
       "      <th>Issued Date</th>\n",
       "      <th>Completed Date</th>\n",
       "      <th>First Construction Document Date</th>\n",
       "      <th>Structural Notification</th>\n",
       "      <th>Number of Existing Stories</th>\n",
       "      <th>Number of Proposed Stories</th>\n",
       "      <th>Voluntary Soft-Story Retrofit</th>\n",
       "      <th>Fire Only Permit</th>\n",
       "      <th>Permit Expiration Date</th>\n",
       "      <th>Estimated Cost</th>\n",
       "      <th>Revised Cost</th>\n",
       "      <th>Existing Use</th>\n",
       "      <th>Existing Units</th>\n",
       "      <th>Proposed Use</th>\n",
       "      <th>Proposed Units</th>\n",
       "      <th>Plansets</th>\n",
       "      <th>TIDF Compliance</th>\n",
       "      <th>Existing Construction Type</th>\n",
       "      <th>Existing Construction Type Description</th>\n",
       "      <th>Proposed Construction Type</th>\n",
       "      <th>Proposed Construction Type Description</th>\n",
       "      <th>Site Permit</th>\n",
       "      <th>Supervisor District</th>\n",
       "      <th>Neighborhoods - Analysis Boundaries</th>\n",
       "      <th>Zipcode</th>\n",
       "      <th>Location</th>\n",
       "      <th>Record ID</th>\n",
       "    </tr>\n",
       "    <tr>\n",
       "      <th>Permit Number</th>\n",
       "      <th></th>\n",
       "      <th></th>\n",
       "      <th></th>\n",
       "      <th></th>\n",
       "      <th></th>\n",
       "      <th></th>\n",
       "      <th></th>\n",
       "      <th></th>\n",
       "      <th></th>\n",
       "      <th></th>\n",
       "      <th></th>\n",
       "      <th></th>\n",
       "      <th></th>\n",
       "      <th></th>\n",
       "      <th></th>\n",
       "      <th></th>\n",
       "      <th></th>\n",
       "      <th></th>\n",
       "      <th></th>\n",
       "      <th></th>\n",
       "      <th></th>\n",
       "      <th></th>\n",
       "      <th></th>\n",
       "      <th></th>\n",
       "      <th></th>\n",
       "      <th></th>\n",
       "      <th></th>\n",
       "      <th></th>\n",
       "      <th></th>\n",
       "      <th></th>\n",
       "      <th></th>\n",
       "      <th></th>\n",
       "      <th></th>\n",
       "      <th></th>\n",
       "      <th></th>\n",
       "      <th></th>\n",
       "      <th></th>\n",
       "      <th></th>\n",
       "      <th></th>\n",
       "      <th></th>\n",
       "      <th></th>\n",
       "      <th></th>\n",
       "    </tr>\n",
       "  </thead>\n",
       "  <tbody>\n",
       "  </tbody>\n",
       "</table>\n",
       "</div>"
      ],
      "text/plain": [
       "Empty DataFrame\n",
       "Columns: [Permit Type, Permit Type Definition, Permit Creation Date, Block, Lot, Street Number, Street Number Suffix, Street Name, Street Suffix, Unit, Unit Suffix, Description, Current Status, Current Status Date, Filed Date, Issued Date, Completed Date, First Construction Document Date, Structural Notification, Number of Existing Stories, Number of Proposed Stories, Voluntary Soft-Story Retrofit, Fire Only Permit, Permit Expiration Date, Estimated Cost, Revised Cost, Existing Use, Existing Units, Proposed Use, Proposed Units, Plansets, TIDF Compliance, Existing Construction Type, Existing Construction Type Description, Proposed Construction Type, Proposed Construction Type Description, Site Permit, Supervisor District, Neighborhoods - Analysis Boundaries, Zipcode, Location, Record ID]\n",
       "Index: []"
      ]
     },
     "execution_count": 9,
     "metadata": {},
     "output_type": "execute_result"
    }
   ],
   "source": [
    "#if we were to drop rows with atleast one missing value\n",
    "rows_without_missing_values= df.dropna(axis=0)\n",
    "rows_without_missing_values.head()\n",
    "#All the data would be lost"
   ]
  },
  {
   "cell_type": "code",
   "execution_count": 10,
   "metadata": {
    "execution": {
     "iopub.execute_input": "2020-11-16T12:51:01.711408Z",
     "iopub.status.busy": "2020-11-16T12:51:01.710654Z",
     "iopub.status.idle": "2020-11-16T12:51:02.165588Z",
     "shell.execute_reply": "2020-11-16T12:51:02.164832Z"
    },
    "papermill": {
     "duration": 0.554338,
     "end_time": "2020-11-16T12:51:02.165714",
     "exception": false,
     "start_time": "2020-11-16T12:51:01.611376",
     "status": "completed"
    },
    "tags": []
   },
   "outputs": [
    {
     "data": {
      "text/plain": [
       "Permit Type                               0.000000\n",
       "Permit Type Definition                    0.000000\n",
       "Permit Creation Date                      0.000000\n",
       "Block                                     0.000000\n",
       "Lot                                       0.000000\n",
       "Street Number                             0.000000\n",
       "Street Number Suffix                      0.988859\n",
       "Street Name                               0.000000\n",
       "Street Suffix                             0.013917\n",
       "Unit                                      0.851790\n",
       "Unit Suffix                               0.990141\n",
       "Description                               0.001458\n",
       "Current Status                            0.000000\n",
       "Current Status Date                       0.000000\n",
       "Filed Date                                0.000000\n",
       "Issued Date                               0.075113\n",
       "Completed Date                            0.511357\n",
       "First Construction Document Date          0.075143\n",
       "Structural Notification                   0.965199\n",
       "Number of Existing Stories                0.215103\n",
       "Number of Proposed Stories                0.215525\n",
       "Voluntary Soft-Story Retrofit             0.999824\n",
       "Fire Only Permit                          0.905344\n",
       "Permit Expiration Date                    0.260835\n",
       "Estimated Cost                            0.191383\n",
       "Revised Cost                              0.030498\n",
       "Existing Use                              0.206707\n",
       "Existing Units                            0.259115\n",
       "Proposed Use                              0.213369\n",
       "Proposed Units                            0.255963\n",
       "Plansets                                  0.187577\n",
       "TIDF Compliance                           0.999990\n",
       "Existing Construction Type                0.218029\n",
       "Existing Construction Type Description    0.218029\n",
       "Proposed Construction Type                0.217004\n",
       "Proposed Construction Type Description    0.217004\n",
       "Site Permit                               0.973057\n",
       "Supervisor District                       0.008632\n",
       "Neighborhoods - Analysis Boundaries       0.008673\n",
       "Zipcode                                   0.008627\n",
       "Location                                  0.008547\n",
       "Record ID                                 0.000000\n",
       "dtype: float64"
      ]
     },
     "execution_count": 10,
     "metadata": {},
     "output_type": "execute_result"
    }
   ],
   "source": [
    "#lets explore the possibility of dropping columns by a given percentage threshold of missings values.\n",
    "miss_val_per_column = df.isnull().sum()/len(df)\n",
    "miss_val_per_column"
   ]
  },
  {
   "cell_type": "code",
   "execution_count": 11,
   "metadata": {
    "execution": {
     "iopub.execute_input": "2020-11-16T12:51:02.367193Z",
     "iopub.status.busy": "2020-11-16T12:51:02.366069Z",
     "iopub.status.idle": "2020-11-16T12:51:02.369996Z",
     "shell.execute_reply": "2020-11-16T12:51:02.370535Z"
    },
    "papermill": {
     "duration": 0.108771,
     "end_time": "2020-11-16T12:51:02.370693",
     "exception": false,
     "start_time": "2020-11-16T12:51:02.261922",
     "status": "completed"
    },
    "tags": []
   },
   "outputs": [
    {
     "data": {
      "text/plain": [
       "Permit Type                                0.000\n",
       "Permit Type Definition                     0.000\n",
       "Permit Creation Date                       0.000\n",
       "Block                                      0.000\n",
       "Lot                                        0.000\n",
       "Street Number                              0.000\n",
       "Street Number Suffix                      98.886\n",
       "Street Name                                0.000\n",
       "Street Suffix                              1.392\n",
       "Unit                                      85.179\n",
       "Unit Suffix                               99.014\n",
       "Description                                0.146\n",
       "Current Status                             0.000\n",
       "Current Status Date                        0.000\n",
       "Filed Date                                 0.000\n",
       "Issued Date                                7.511\n",
       "Completed Date                            51.136\n",
       "First Construction Document Date           7.514\n",
       "Structural Notification                   96.520\n",
       "Number of Existing Stories                21.510\n",
       "Number of Proposed Stories                21.553\n",
       "Voluntary Soft-Story Retrofit             99.982\n",
       "Fire Only Permit                          90.534\n",
       "Permit Expiration Date                    26.083\n",
       "Estimated Cost                            19.138\n",
       "Revised Cost                               3.050\n",
       "Existing Use                              20.671\n",
       "Existing Units                            25.912\n",
       "Proposed Use                              21.337\n",
       "Proposed Units                            25.596\n",
       "Plansets                                  18.758\n",
       "TIDF Compliance                           99.999\n",
       "Existing Construction Type                21.803\n",
       "Existing Construction Type Description    21.803\n",
       "Proposed Construction Type                21.700\n",
       "Proposed Construction Type Description    21.700\n",
       "Site Permit                               97.306\n",
       "Supervisor District                        0.863\n",
       "Neighborhoods - Analysis Boundaries        0.867\n",
       "Zipcode                                    0.863\n",
       "Location                                   0.855\n",
       "Record ID                                  0.000\n",
       "dtype: float64"
      ]
     },
     "execution_count": 11,
     "metadata": {},
     "output_type": "execute_result"
    }
   ],
   "source": [
    "mis_val_centage = (miss_val_per_column*100).round(3)\n",
    "mis_val_centage"
   ]
  },
  {
   "cell_type": "code",
   "execution_count": 12,
   "metadata": {
    "execution": {
     "iopub.execute_input": "2020-11-16T12:51:02.579675Z",
     "iopub.status.busy": "2020-11-16T12:51:02.578649Z",
     "iopub.status.idle": "2020-11-16T12:51:02.584174Z",
     "shell.execute_reply": "2020-11-16T12:51:02.583541Z"
    },
    "papermill": {
     "duration": 0.118257,
     "end_time": "2020-11-16T12:51:02.584318",
     "exception": false,
     "start_time": "2020-11-16T12:51:02.466061",
     "status": "completed"
    },
    "tags": []
   },
   "outputs": [
    {
     "data": {
      "text/html": [
       "<div>\n",
       "<style scoped>\n",
       "    .dataframe tbody tr th:only-of-type {\n",
       "        vertical-align: middle;\n",
       "    }\n",
       "\n",
       "    .dataframe tbody tr th {\n",
       "        vertical-align: top;\n",
       "    }\n",
       "\n",
       "    .dataframe thead th {\n",
       "        text-align: right;\n",
       "    }\n",
       "</style>\n",
       "<table border=\"1\" class=\"dataframe\">\n",
       "  <thead>\n",
       "    <tr style=\"text-align: right;\">\n",
       "      <th></th>\n",
       "      <th>0</th>\n",
       "      <th>1</th>\n",
       "    </tr>\n",
       "  </thead>\n",
       "  <tbody>\n",
       "    <tr>\n",
       "      <th>Permit Type</th>\n",
       "      <td>0.000000</td>\n",
       "      <td>0.000</td>\n",
       "    </tr>\n",
       "    <tr>\n",
       "      <th>Permit Type Definition</th>\n",
       "      <td>0.000000</td>\n",
       "      <td>0.000</td>\n",
       "    </tr>\n",
       "    <tr>\n",
       "      <th>Permit Creation Date</th>\n",
       "      <td>0.000000</td>\n",
       "      <td>0.000</td>\n",
       "    </tr>\n",
       "    <tr>\n",
       "      <th>Block</th>\n",
       "      <td>0.000000</td>\n",
       "      <td>0.000</td>\n",
       "    </tr>\n",
       "    <tr>\n",
       "      <th>Lot</th>\n",
       "      <td>0.000000</td>\n",
       "      <td>0.000</td>\n",
       "    </tr>\n",
       "    <tr>\n",
       "      <th>Street Number</th>\n",
       "      <td>0.000000</td>\n",
       "      <td>0.000</td>\n",
       "    </tr>\n",
       "    <tr>\n",
       "      <th>Street Number Suffix</th>\n",
       "      <td>0.988859</td>\n",
       "      <td>98.886</td>\n",
       "    </tr>\n",
       "    <tr>\n",
       "      <th>Street Name</th>\n",
       "      <td>0.000000</td>\n",
       "      <td>0.000</td>\n",
       "    </tr>\n",
       "    <tr>\n",
       "      <th>Street Suffix</th>\n",
       "      <td>0.013917</td>\n",
       "      <td>1.392</td>\n",
       "    </tr>\n",
       "    <tr>\n",
       "      <th>Unit</th>\n",
       "      <td>0.851790</td>\n",
       "      <td>85.179</td>\n",
       "    </tr>\n",
       "    <tr>\n",
       "      <th>Unit Suffix</th>\n",
       "      <td>0.990141</td>\n",
       "      <td>99.014</td>\n",
       "    </tr>\n",
       "    <tr>\n",
       "      <th>Description</th>\n",
       "      <td>0.001458</td>\n",
       "      <td>0.146</td>\n",
       "    </tr>\n",
       "    <tr>\n",
       "      <th>Current Status</th>\n",
       "      <td>0.000000</td>\n",
       "      <td>0.000</td>\n",
       "    </tr>\n",
       "    <tr>\n",
       "      <th>Current Status Date</th>\n",
       "      <td>0.000000</td>\n",
       "      <td>0.000</td>\n",
       "    </tr>\n",
       "    <tr>\n",
       "      <th>Filed Date</th>\n",
       "      <td>0.000000</td>\n",
       "      <td>0.000</td>\n",
       "    </tr>\n",
       "    <tr>\n",
       "      <th>Issued Date</th>\n",
       "      <td>0.075113</td>\n",
       "      <td>7.511</td>\n",
       "    </tr>\n",
       "    <tr>\n",
       "      <th>Completed Date</th>\n",
       "      <td>0.511357</td>\n",
       "      <td>51.136</td>\n",
       "    </tr>\n",
       "    <tr>\n",
       "      <th>First Construction Document Date</th>\n",
       "      <td>0.075143</td>\n",
       "      <td>7.514</td>\n",
       "    </tr>\n",
       "    <tr>\n",
       "      <th>Structural Notification</th>\n",
       "      <td>0.965199</td>\n",
       "      <td>96.520</td>\n",
       "    </tr>\n",
       "    <tr>\n",
       "      <th>Number of Existing Stories</th>\n",
       "      <td>0.215103</td>\n",
       "      <td>21.510</td>\n",
       "    </tr>\n",
       "    <tr>\n",
       "      <th>Number of Proposed Stories</th>\n",
       "      <td>0.215525</td>\n",
       "      <td>21.553</td>\n",
       "    </tr>\n",
       "    <tr>\n",
       "      <th>Voluntary Soft-Story Retrofit</th>\n",
       "      <td>0.999824</td>\n",
       "      <td>99.982</td>\n",
       "    </tr>\n",
       "    <tr>\n",
       "      <th>Fire Only Permit</th>\n",
       "      <td>0.905344</td>\n",
       "      <td>90.534</td>\n",
       "    </tr>\n",
       "    <tr>\n",
       "      <th>Permit Expiration Date</th>\n",
       "      <td>0.260835</td>\n",
       "      <td>26.083</td>\n",
       "    </tr>\n",
       "    <tr>\n",
       "      <th>Estimated Cost</th>\n",
       "      <td>0.191383</td>\n",
       "      <td>19.138</td>\n",
       "    </tr>\n",
       "    <tr>\n",
       "      <th>Revised Cost</th>\n",
       "      <td>0.030498</td>\n",
       "      <td>3.050</td>\n",
       "    </tr>\n",
       "    <tr>\n",
       "      <th>Existing Use</th>\n",
       "      <td>0.206707</td>\n",
       "      <td>20.671</td>\n",
       "    </tr>\n",
       "    <tr>\n",
       "      <th>Existing Units</th>\n",
       "      <td>0.259115</td>\n",
       "      <td>25.912</td>\n",
       "    </tr>\n",
       "    <tr>\n",
       "      <th>Proposed Use</th>\n",
       "      <td>0.213369</td>\n",
       "      <td>21.337</td>\n",
       "    </tr>\n",
       "    <tr>\n",
       "      <th>Proposed Units</th>\n",
       "      <td>0.255963</td>\n",
       "      <td>25.596</td>\n",
       "    </tr>\n",
       "    <tr>\n",
       "      <th>Plansets</th>\n",
       "      <td>0.187577</td>\n",
       "      <td>18.758</td>\n",
       "    </tr>\n",
       "    <tr>\n",
       "      <th>TIDF Compliance</th>\n",
       "      <td>0.999990</td>\n",
       "      <td>99.999</td>\n",
       "    </tr>\n",
       "    <tr>\n",
       "      <th>Existing Construction Type</th>\n",
       "      <td>0.218029</td>\n",
       "      <td>21.803</td>\n",
       "    </tr>\n",
       "    <tr>\n",
       "      <th>Existing Construction Type Description</th>\n",
       "      <td>0.218029</td>\n",
       "      <td>21.803</td>\n",
       "    </tr>\n",
       "    <tr>\n",
       "      <th>Proposed Construction Type</th>\n",
       "      <td>0.217004</td>\n",
       "      <td>21.700</td>\n",
       "    </tr>\n",
       "    <tr>\n",
       "      <th>Proposed Construction Type Description</th>\n",
       "      <td>0.217004</td>\n",
       "      <td>21.700</td>\n",
       "    </tr>\n",
       "    <tr>\n",
       "      <th>Site Permit</th>\n",
       "      <td>0.973057</td>\n",
       "      <td>97.306</td>\n",
       "    </tr>\n",
       "    <tr>\n",
       "      <th>Supervisor District</th>\n",
       "      <td>0.008632</td>\n",
       "      <td>0.863</td>\n",
       "    </tr>\n",
       "    <tr>\n",
       "      <th>Neighborhoods - Analysis Boundaries</th>\n",
       "      <td>0.008673</td>\n",
       "      <td>0.867</td>\n",
       "    </tr>\n",
       "    <tr>\n",
       "      <th>Zipcode</th>\n",
       "      <td>0.008627</td>\n",
       "      <td>0.863</td>\n",
       "    </tr>\n",
       "    <tr>\n",
       "      <th>Location</th>\n",
       "      <td>0.008547</td>\n",
       "      <td>0.855</td>\n",
       "    </tr>\n",
       "    <tr>\n",
       "      <th>Record ID</th>\n",
       "      <td>0.000000</td>\n",
       "      <td>0.000</td>\n",
       "    </tr>\n",
       "  </tbody>\n",
       "</table>\n",
       "</div>"
      ],
      "text/plain": [
       "                                               0       1\n",
       "Permit Type                             0.000000   0.000\n",
       "Permit Type Definition                  0.000000   0.000\n",
       "Permit Creation Date                    0.000000   0.000\n",
       "Block                                   0.000000   0.000\n",
       "Lot                                     0.000000   0.000\n",
       "Street Number                           0.000000   0.000\n",
       "Street Number Suffix                    0.988859  98.886\n",
       "Street Name                             0.000000   0.000\n",
       "Street Suffix                           0.013917   1.392\n",
       "Unit                                    0.851790  85.179\n",
       "Unit Suffix                             0.990141  99.014\n",
       "Description                             0.001458   0.146\n",
       "Current Status                          0.000000   0.000\n",
       "Current Status Date                     0.000000   0.000\n",
       "Filed Date                              0.000000   0.000\n",
       "Issued Date                             0.075113   7.511\n",
       "Completed Date                          0.511357  51.136\n",
       "First Construction Document Date        0.075143   7.514\n",
       "Structural Notification                 0.965199  96.520\n",
       "Number of Existing Stories              0.215103  21.510\n",
       "Number of Proposed Stories              0.215525  21.553\n",
       "Voluntary Soft-Story Retrofit           0.999824  99.982\n",
       "Fire Only Permit                        0.905344  90.534\n",
       "Permit Expiration Date                  0.260835  26.083\n",
       "Estimated Cost                          0.191383  19.138\n",
       "Revised Cost                            0.030498   3.050\n",
       "Existing Use                            0.206707  20.671\n",
       "Existing Units                          0.259115  25.912\n",
       "Proposed Use                            0.213369  21.337\n",
       "Proposed Units                          0.255963  25.596\n",
       "Plansets                                0.187577  18.758\n",
       "TIDF Compliance                         0.999990  99.999\n",
       "Existing Construction Type              0.218029  21.803\n",
       "Existing Construction Type Description  0.218029  21.803\n",
       "Proposed Construction Type              0.217004  21.700\n",
       "Proposed Construction Type Description  0.217004  21.700\n",
       "Site Permit                             0.973057  97.306\n",
       "Supervisor District                     0.008632   0.863\n",
       "Neighborhoods - Analysis Boundaries     0.008673   0.867\n",
       "Zipcode                                 0.008627   0.863\n",
       "Location                                0.008547   0.855\n",
       "Record ID                               0.000000   0.000"
      ]
     },
     "execution_count": 12,
     "metadata": {},
     "output_type": "execute_result"
    }
   ],
   "source": [
    "mis_val_table = pd.concat([miss_val_per_column,mis_val_centage,],axis=1)\n",
    "mis_val_table"
   ]
  },
  {
   "cell_type": "code",
   "execution_count": 13,
   "metadata": {
    "execution": {
     "iopub.execute_input": "2020-11-16T12:51:02.798306Z",
     "iopub.status.busy": "2020-11-16T12:51:02.797173Z",
     "iopub.status.idle": "2020-11-16T12:51:02.802690Z",
     "shell.execute_reply": "2020-11-16T12:51:02.802044Z"
    },
    "papermill": {
     "duration": 0.121539,
     "end_time": "2020-11-16T12:51:02.802826",
     "exception": false,
     "start_time": "2020-11-16T12:51:02.681287",
     "status": "completed"
    },
    "tags": []
   },
   "outputs": [
    {
     "data": {
      "text/html": [
       "<div>\n",
       "<style scoped>\n",
       "    .dataframe tbody tr th:only-of-type {\n",
       "        vertical-align: middle;\n",
       "    }\n",
       "\n",
       "    .dataframe tbody tr th {\n",
       "        vertical-align: top;\n",
       "    }\n",
       "\n",
       "    .dataframe thead th {\n",
       "        text-align: right;\n",
       "    }\n",
       "</style>\n",
       "<table border=\"1\" class=\"dataframe\">\n",
       "  <thead>\n",
       "    <tr style=\"text-align: right;\">\n",
       "      <th></th>\n",
       "      <th>Missing Values</th>\n",
       "      <th>Percentage</th>\n",
       "    </tr>\n",
       "  </thead>\n",
       "  <tbody>\n",
       "    <tr>\n",
       "      <th>Permit Type</th>\n",
       "      <td>0.000000</td>\n",
       "      <td>0.000</td>\n",
       "    </tr>\n",
       "    <tr>\n",
       "      <th>Permit Type Definition</th>\n",
       "      <td>0.000000</td>\n",
       "      <td>0.000</td>\n",
       "    </tr>\n",
       "    <tr>\n",
       "      <th>Permit Creation Date</th>\n",
       "      <td>0.000000</td>\n",
       "      <td>0.000</td>\n",
       "    </tr>\n",
       "    <tr>\n",
       "      <th>Block</th>\n",
       "      <td>0.000000</td>\n",
       "      <td>0.000</td>\n",
       "    </tr>\n",
       "    <tr>\n",
       "      <th>Lot</th>\n",
       "      <td>0.000000</td>\n",
       "      <td>0.000</td>\n",
       "    </tr>\n",
       "    <tr>\n",
       "      <th>Street Number</th>\n",
       "      <td>0.000000</td>\n",
       "      <td>0.000</td>\n",
       "    </tr>\n",
       "    <tr>\n",
       "      <th>Street Number Suffix</th>\n",
       "      <td>0.988859</td>\n",
       "      <td>98.886</td>\n",
       "    </tr>\n",
       "    <tr>\n",
       "      <th>Street Name</th>\n",
       "      <td>0.000000</td>\n",
       "      <td>0.000</td>\n",
       "    </tr>\n",
       "    <tr>\n",
       "      <th>Street Suffix</th>\n",
       "      <td>0.013917</td>\n",
       "      <td>1.392</td>\n",
       "    </tr>\n",
       "    <tr>\n",
       "      <th>Unit</th>\n",
       "      <td>0.851790</td>\n",
       "      <td>85.179</td>\n",
       "    </tr>\n",
       "    <tr>\n",
       "      <th>Unit Suffix</th>\n",
       "      <td>0.990141</td>\n",
       "      <td>99.014</td>\n",
       "    </tr>\n",
       "    <tr>\n",
       "      <th>Description</th>\n",
       "      <td>0.001458</td>\n",
       "      <td>0.146</td>\n",
       "    </tr>\n",
       "    <tr>\n",
       "      <th>Current Status</th>\n",
       "      <td>0.000000</td>\n",
       "      <td>0.000</td>\n",
       "    </tr>\n",
       "    <tr>\n",
       "      <th>Current Status Date</th>\n",
       "      <td>0.000000</td>\n",
       "      <td>0.000</td>\n",
       "    </tr>\n",
       "    <tr>\n",
       "      <th>Filed Date</th>\n",
       "      <td>0.000000</td>\n",
       "      <td>0.000</td>\n",
       "    </tr>\n",
       "    <tr>\n",
       "      <th>Issued Date</th>\n",
       "      <td>0.075113</td>\n",
       "      <td>7.511</td>\n",
       "    </tr>\n",
       "    <tr>\n",
       "      <th>Completed Date</th>\n",
       "      <td>0.511357</td>\n",
       "      <td>51.136</td>\n",
       "    </tr>\n",
       "    <tr>\n",
       "      <th>First Construction Document Date</th>\n",
       "      <td>0.075143</td>\n",
       "      <td>7.514</td>\n",
       "    </tr>\n",
       "    <tr>\n",
       "      <th>Structural Notification</th>\n",
       "      <td>0.965199</td>\n",
       "      <td>96.520</td>\n",
       "    </tr>\n",
       "    <tr>\n",
       "      <th>Number of Existing Stories</th>\n",
       "      <td>0.215103</td>\n",
       "      <td>21.510</td>\n",
       "    </tr>\n",
       "    <tr>\n",
       "      <th>Number of Proposed Stories</th>\n",
       "      <td>0.215525</td>\n",
       "      <td>21.553</td>\n",
       "    </tr>\n",
       "    <tr>\n",
       "      <th>Voluntary Soft-Story Retrofit</th>\n",
       "      <td>0.999824</td>\n",
       "      <td>99.982</td>\n",
       "    </tr>\n",
       "    <tr>\n",
       "      <th>Fire Only Permit</th>\n",
       "      <td>0.905344</td>\n",
       "      <td>90.534</td>\n",
       "    </tr>\n",
       "    <tr>\n",
       "      <th>Permit Expiration Date</th>\n",
       "      <td>0.260835</td>\n",
       "      <td>26.083</td>\n",
       "    </tr>\n",
       "    <tr>\n",
       "      <th>Estimated Cost</th>\n",
       "      <td>0.191383</td>\n",
       "      <td>19.138</td>\n",
       "    </tr>\n",
       "    <tr>\n",
       "      <th>Revised Cost</th>\n",
       "      <td>0.030498</td>\n",
       "      <td>3.050</td>\n",
       "    </tr>\n",
       "    <tr>\n",
       "      <th>Existing Use</th>\n",
       "      <td>0.206707</td>\n",
       "      <td>20.671</td>\n",
       "    </tr>\n",
       "    <tr>\n",
       "      <th>Existing Units</th>\n",
       "      <td>0.259115</td>\n",
       "      <td>25.912</td>\n",
       "    </tr>\n",
       "    <tr>\n",
       "      <th>Proposed Use</th>\n",
       "      <td>0.213369</td>\n",
       "      <td>21.337</td>\n",
       "    </tr>\n",
       "    <tr>\n",
       "      <th>Proposed Units</th>\n",
       "      <td>0.255963</td>\n",
       "      <td>25.596</td>\n",
       "    </tr>\n",
       "    <tr>\n",
       "      <th>Plansets</th>\n",
       "      <td>0.187577</td>\n",
       "      <td>18.758</td>\n",
       "    </tr>\n",
       "    <tr>\n",
       "      <th>TIDF Compliance</th>\n",
       "      <td>0.999990</td>\n",
       "      <td>99.999</td>\n",
       "    </tr>\n",
       "    <tr>\n",
       "      <th>Existing Construction Type</th>\n",
       "      <td>0.218029</td>\n",
       "      <td>21.803</td>\n",
       "    </tr>\n",
       "    <tr>\n",
       "      <th>Existing Construction Type Description</th>\n",
       "      <td>0.218029</td>\n",
       "      <td>21.803</td>\n",
       "    </tr>\n",
       "    <tr>\n",
       "      <th>Proposed Construction Type</th>\n",
       "      <td>0.217004</td>\n",
       "      <td>21.700</td>\n",
       "    </tr>\n",
       "    <tr>\n",
       "      <th>Proposed Construction Type Description</th>\n",
       "      <td>0.217004</td>\n",
       "      <td>21.700</td>\n",
       "    </tr>\n",
       "    <tr>\n",
       "      <th>Site Permit</th>\n",
       "      <td>0.973057</td>\n",
       "      <td>97.306</td>\n",
       "    </tr>\n",
       "    <tr>\n",
       "      <th>Supervisor District</th>\n",
       "      <td>0.008632</td>\n",
       "      <td>0.863</td>\n",
       "    </tr>\n",
       "    <tr>\n",
       "      <th>Neighborhoods - Analysis Boundaries</th>\n",
       "      <td>0.008673</td>\n",
       "      <td>0.867</td>\n",
       "    </tr>\n",
       "    <tr>\n",
       "      <th>Zipcode</th>\n",
       "      <td>0.008627</td>\n",
       "      <td>0.863</td>\n",
       "    </tr>\n",
       "    <tr>\n",
       "      <th>Location</th>\n",
       "      <td>0.008547</td>\n",
       "      <td>0.855</td>\n",
       "    </tr>\n",
       "    <tr>\n",
       "      <th>Record ID</th>\n",
       "      <td>0.000000</td>\n",
       "      <td>0.000</td>\n",
       "    </tr>\n",
       "  </tbody>\n",
       "</table>\n",
       "</div>"
      ],
      "text/plain": [
       "                                        Missing Values  Percentage\n",
       "Permit Type                                   0.000000       0.000\n",
       "Permit Type Definition                        0.000000       0.000\n",
       "Permit Creation Date                          0.000000       0.000\n",
       "Block                                         0.000000       0.000\n",
       "Lot                                           0.000000       0.000\n",
       "Street Number                                 0.000000       0.000\n",
       "Street Number Suffix                          0.988859      98.886\n",
       "Street Name                                   0.000000       0.000\n",
       "Street Suffix                                 0.013917       1.392\n",
       "Unit                                          0.851790      85.179\n",
       "Unit Suffix                                   0.990141      99.014\n",
       "Description                                   0.001458       0.146\n",
       "Current Status                                0.000000       0.000\n",
       "Current Status Date                           0.000000       0.000\n",
       "Filed Date                                    0.000000       0.000\n",
       "Issued Date                                   0.075113       7.511\n",
       "Completed Date                                0.511357      51.136\n",
       "First Construction Document Date              0.075143       7.514\n",
       "Structural Notification                       0.965199      96.520\n",
       "Number of Existing Stories                    0.215103      21.510\n",
       "Number of Proposed Stories                    0.215525      21.553\n",
       "Voluntary Soft-Story Retrofit                 0.999824      99.982\n",
       "Fire Only Permit                              0.905344      90.534\n",
       "Permit Expiration Date                        0.260835      26.083\n",
       "Estimated Cost                                0.191383      19.138\n",
       "Revised Cost                                  0.030498       3.050\n",
       "Existing Use                                  0.206707      20.671\n",
       "Existing Units                                0.259115      25.912\n",
       "Proposed Use                                  0.213369      21.337\n",
       "Proposed Units                                0.255963      25.596\n",
       "Plansets                                      0.187577      18.758\n",
       "TIDF Compliance                               0.999990      99.999\n",
       "Existing Construction Type                    0.218029      21.803\n",
       "Existing Construction Type Description        0.218029      21.803\n",
       "Proposed Construction Type                    0.217004      21.700\n",
       "Proposed Construction Type Description        0.217004      21.700\n",
       "Site Permit                                   0.973057      97.306\n",
       "Supervisor District                           0.008632       0.863\n",
       "Neighborhoods - Analysis Boundaries           0.008673       0.867\n",
       "Zipcode                                       0.008627       0.863\n",
       "Location                                      0.008547       0.855\n",
       "Record ID                                     0.000000       0.000"
      ]
     },
     "execution_count": 13,
     "metadata": {},
     "output_type": "execute_result"
    }
   ],
   "source": [
    "new_table = mis_val_table.rename(columns = {0 : 'Missing Values', 1 : 'Percentage'})\n",
    "new_table"
   ]
  },
  {
   "cell_type": "code",
   "execution_count": 14,
   "metadata": {
    "execution": {
     "iopub.execute_input": "2020-11-16T12:51:03.009658Z",
     "iopub.status.busy": "2020-11-16T12:51:03.008576Z",
     "iopub.status.idle": "2020-11-16T12:51:03.012250Z",
     "shell.execute_reply": "2020-11-16T12:51:03.012840Z"
    },
    "papermill": {
     "duration": 0.110704,
     "end_time": "2020-11-16T12:51:03.012993",
     "exception": false,
     "start_time": "2020-11-16T12:51:02.902289",
     "status": "completed"
    },
    "tags": []
   },
   "outputs": [
    {
     "name": "stdout",
     "output_type": "stream",
     "text": [
      "We will remove 8 columns\n",
      "The columns to remove are \n",
      " ['Street Number Suffix', 'Unit', 'Unit Suffix', 'Structural Notification', 'Voluntary Soft-Story Retrofit', 'Fire Only Permit', 'TIDF Compliance', 'Site Permit']\n"
     ]
    }
   ],
   "source": [
    "# set our threshold to remove columns with 80% missing values.\n",
    "missing_columns = list(new_table[new_table['Percentage']>80].index)\n",
    "print('We will remove %d columns'%len(missing_columns))\n",
    "print('The columns to remove are \\n %s'%missing_columns)"
   ]
  },
  {
   "cell_type": "code",
   "execution_count": 15,
   "metadata": {
    "execution": {
     "iopub.execute_input": "2020-11-16T12:51:03.218022Z",
     "iopub.status.busy": "2020-11-16T12:51:03.217210Z",
     "iopub.status.idle": "2020-11-16T12:51:03.266105Z",
     "shell.execute_reply": "2020-11-16T12:51:03.265326Z"
    },
    "papermill": {
     "duration": 0.154604,
     "end_time": "2020-11-16T12:51:03.266229",
     "exception": false,
     "start_time": "2020-11-16T12:51:03.111625",
     "status": "completed"
    },
    "tags": []
   },
   "outputs": [],
   "source": [
    "df.drop(columns=list(missing_columns),inplace=True)\n",
    "#Now left with 34 columns out of 42."
   ]
  },
  {
   "cell_type": "code",
   "execution_count": 16,
   "metadata": {
    "execution": {
     "iopub.execute_input": "2020-11-16T12:51:03.470754Z",
     "iopub.status.busy": "2020-11-16T12:51:03.469902Z",
     "iopub.status.idle": "2020-11-16T12:51:03.474115Z",
     "shell.execute_reply": "2020-11-16T12:51:03.473556Z"
    },
    "papermill": {
     "duration": 0.108848,
     "end_time": "2020-11-16T12:51:03.474267",
     "exception": false,
     "start_time": "2020-11-16T12:51:03.365419",
     "status": "completed"
    },
    "tags": []
   },
   "outputs": [
    {
     "data": {
      "text/plain": [
       "(198900, 34)"
      ]
     },
     "execution_count": 16,
     "metadata": {},
     "output_type": "execute_result"
    }
   ],
   "source": [
    "df.shape"
   ]
  },
  {
   "cell_type": "markdown",
   "metadata": {
    "papermill": {
     "duration": 0.098778,
     "end_time": "2020-11-16T12:51:03.672090",
     "exception": false,
     "start_time": "2020-11-16T12:51:03.573312",
     "status": "completed"
    },
    "tags": []
   },
   "source": [
    "**Standard machine learning models cannot deal with missing values, and which means we have to find a way to fill these in or disard any features with missing values. Since we already removed features with more than 80% missing values in the dateframe,\n",
    "we have a considerable number of rows process, we can decide to drop rows with missing values so as to remain with data which suitable to our models**."
   ]
  },
  {
   "cell_type": "code",
   "execution_count": 17,
   "metadata": {
    "execution": {
     "iopub.execute_input": "2020-11-16T12:51:04.243275Z",
     "iopub.status.busy": "2020-11-16T12:51:04.242444Z",
     "iopub.status.idle": "2020-11-16T12:51:04.314767Z",
     "shell.execute_reply": "2020-11-16T12:51:04.315365Z"
    },
    "papermill": {
     "duration": 0.543697,
     "end_time": "2020-11-16T12:51:04.315535",
     "exception": false,
     "start_time": "2020-11-16T12:51:03.771838",
     "status": "completed"
    },
    "tags": []
   },
   "outputs": [],
   "source": [
    "df.dropna(axis=0,inplace=True) # we can drop rows with missing values"
   ]
  },
  {
   "cell_type": "code",
   "execution_count": 18,
   "metadata": {
    "execution": {
     "iopub.execute_input": "2020-11-16T12:51:04.688081Z",
     "iopub.status.busy": "2020-11-16T12:51:04.687174Z",
     "iopub.status.idle": "2020-11-16T12:51:04.696191Z",
     "shell.execute_reply": "2020-11-16T12:51:04.695603Z"
    },
    "papermill": {
     "duration": 0.281071,
     "end_time": "2020-11-16T12:51:04.696343",
     "exception": false,
     "start_time": "2020-11-16T12:51:04.415272",
     "status": "completed"
    },
    "tags": []
   },
   "outputs": [
    {
     "data": {
      "text/plain": [
       "0"
      ]
     },
     "execution_count": 18,
     "metadata": {},
     "output_type": "execute_result"
    }
   ],
   "source": [
    "df.isnull().any().sum() #code shows we now have no missing values in the dataframe"
   ]
  },
  {
   "cell_type": "code",
   "execution_count": 19,
   "metadata": {
    "execution": {
     "iopub.execute_input": "2020-11-16T12:51:04.906538Z",
     "iopub.status.busy": "2020-11-16T12:51:04.905430Z",
     "iopub.status.idle": "2020-11-16T12:51:04.909811Z",
     "shell.execute_reply": "2020-11-16T12:51:04.909129Z"
    },
    "papermill": {
     "duration": 0.111728,
     "end_time": "2020-11-16T12:51:04.909933",
     "exception": false,
     "start_time": "2020-11-16T12:51:04.798205",
     "status": "completed"
    },
    "tags": []
   },
   "outputs": [
    {
     "data": {
      "text/plain": [
       "(86817, 34)"
      ]
     },
     "execution_count": 19,
     "metadata": {},
     "output_type": "execute_result"
    }
   ],
   "source": [
    "df.shape # we are still left with a considerable chunk of data to build our models."
   ]
  },
  {
   "cell_type": "code",
   "execution_count": 20,
   "metadata": {
    "execution": {
     "iopub.execute_input": "2020-11-16T12:51:05.117120Z",
     "iopub.status.busy": "2020-11-16T12:51:05.116358Z",
     "iopub.status.idle": "2020-11-16T12:51:05.469174Z",
     "shell.execute_reply": "2020-11-16T12:51:05.468545Z"
    },
    "papermill": {
     "duration": 0.458276,
     "end_time": "2020-11-16T12:51:05.469334",
     "exception": false,
     "start_time": "2020-11-16T12:51:05.011058",
     "status": "completed"
    },
    "tags": []
   },
   "outputs": [],
   "source": [
    "#DUPLICATE CHECK.\n",
    "NewPmtdata=df.copy()\n",
    "NewPmtdata.drop_duplicates(subset=None, inplace=True)"
   ]
  },
  {
   "cell_type": "code",
   "execution_count": 21,
   "metadata": {
    "execution": {
     "iopub.execute_input": "2020-11-16T12:51:05.726659Z",
     "iopub.status.busy": "2020-11-16T12:51:05.725665Z",
     "iopub.status.idle": "2020-11-16T12:51:05.730413Z",
     "shell.execute_reply": "2020-11-16T12:51:05.729819Z"
    },
    "papermill": {
     "duration": 0.159051,
     "end_time": "2020-11-16T12:51:05.730541",
     "exception": false,
     "start_time": "2020-11-16T12:51:05.571490",
     "status": "completed"
    },
    "tags": []
   },
   "outputs": [
    {
     "data": {
      "text/plain": [
       "(86817, 34)"
      ]
     },
     "execution_count": 21,
     "metadata": {},
     "output_type": "execute_result"
    }
   ],
   "source": [
    "NewPmtdata.shape  # no duplicate rows present"
   ]
  },
  {
   "cell_type": "markdown",
   "metadata": {
    "papermill": {
     "duration": 0.101652,
     "end_time": "2020-11-16T12:51:05.935489",
     "exception": false,
     "start_time": "2020-11-16T12:51:05.833837",
     "status": "completed"
    },
    "tags": []
   },
   "source": [
    "**we shall compute how long it takes for a building permit to be issued by creating the target variable time in days from the Filed Date and the Issued Date **"
   ]
  },
  {
   "cell_type": "code",
   "execution_count": 22,
   "metadata": {
    "execution": {
     "iopub.execute_input": "2020-11-16T12:51:06.145288Z",
     "iopub.status.busy": "2020-11-16T12:51:06.143901Z",
     "iopub.status.idle": "2020-11-16T12:51:06.148957Z",
     "shell.execute_reply": "2020-11-16T12:51:06.148218Z"
    },
    "papermill": {
     "duration": 0.111929,
     "end_time": "2020-11-16T12:51:06.149078",
     "exception": false,
     "start_time": "2020-11-16T12:51:06.037149",
     "status": "completed"
    },
    "tags": []
   },
   "outputs": [],
   "source": [
    "#create a new column time in days taken to receive a permit from the filed date and issued date\n",
    "df['Time_in_Days']= df['Issued Date'].sub(df['Filed Date'],axis=0)"
   ]
  },
  {
   "cell_type": "code",
   "execution_count": 23,
   "metadata": {
    "execution": {
     "iopub.execute_input": "2020-11-16T12:51:06.361891Z",
     "iopub.status.busy": "2020-11-16T12:51:06.361063Z",
     "iopub.status.idle": "2020-11-16T12:51:06.365415Z",
     "shell.execute_reply": "2020-11-16T12:51:06.366035Z"
    },
    "papermill": {
     "duration": 0.115199,
     "end_time": "2020-11-16T12:51:06.366192",
     "exception": false,
     "start_time": "2020-11-16T12:51:06.250993",
     "status": "completed"
    },
    "tags": []
   },
   "outputs": [
    {
     "data": {
      "text/plain": [
       "Permit Number\n",
       "201611072166   253 days\n",
       "201706300814     0 days\n",
       "201710110928     0 days\n",
       "201408254591     0 days\n",
       "201604064066     0 days\n",
       "Name: Time_in_Days, dtype: timedelta64[ns]"
      ]
     },
     "execution_count": 23,
     "metadata": {},
     "output_type": "execute_result"
    }
   ],
   "source": [
    "df['Time_in_Days'].head()# Asnap shot on the time in days taken."
   ]
  },
  {
   "cell_type": "code",
   "execution_count": 24,
   "metadata": {
    "execution": {
     "iopub.execute_input": "2020-11-16T12:51:06.577556Z",
     "iopub.status.busy": "2020-11-16T12:51:06.576560Z",
     "iopub.status.idle": "2020-11-16T12:51:06.584196Z",
     "shell.execute_reply": "2020-11-16T12:51:06.583543Z"
    },
    "papermill": {
     "duration": 0.115453,
     "end_time": "2020-11-16T12:51:06.584356",
     "exception": false,
     "start_time": "2020-11-16T12:51:06.468903",
     "status": "completed"
    },
    "tags": []
   },
   "outputs": [],
   "source": [
    "#Convert the time in days from Datetime format to integer\n",
    "df['Time_in_Days']=df['Time_in_Days'].dt.days"
   ]
  },
  {
   "cell_type": "markdown",
   "metadata": {
    "papermill": {
     "duration": 0.104303,
     "end_time": "2020-11-16T12:51:06.795291",
     "exception": false,
     "start_time": "2020-11-16T12:51:06.690988",
     "status": "completed"
    },
    "tags": []
   },
   "source": [
    "**Phase 2: \n",
    "Next step is to do exploratory Data analysis whose purpose is to find anormalies, trends, partners and relationships that can be used to inform modeling decisions such as which features to use with strong correlation. This helps us to determine what our data tell us**"
   ]
  },
  {
   "cell_type": "code",
   "execution_count": 25,
   "metadata": {
    "execution": {
     "iopub.execute_input": "2020-11-16T12:51:07.009639Z",
     "iopub.status.busy": "2020-11-16T12:51:07.008792Z",
     "iopub.status.idle": "2020-11-16T12:51:07.022024Z",
     "shell.execute_reply": "2020-11-16T12:51:07.021426Z"
    },
    "papermill": {
     "duration": 0.123569,
     "end_time": "2020-11-16T12:51:07.022158",
     "exception": false,
     "start_time": "2020-11-16T12:51:06.898589",
     "status": "completed"
    },
    "tags": []
   },
   "outputs": [
    {
     "data": {
      "text/plain": [
       "count    86817.000000\n",
       "mean        20.648571\n",
       "std         67.638539\n",
       "min          0.000000\n",
       "25%          0.000000\n",
       "50%          0.000000\n",
       "75%          7.000000\n",
       "max       1262.000000\n",
       "Name: Time_in_Days, dtype: float64"
      ]
     },
     "execution_count": 25,
     "metadata": {},
     "output_type": "execute_result"
    }
   ],
   "source": [
    "df['Time_in_Days'].describe() # exploring our target variable"
   ]
  },
  {
   "cell_type": "code",
   "execution_count": 26,
   "metadata": {
    "execution": {
     "iopub.execute_input": "2020-11-16T12:51:07.236691Z",
     "iopub.status.busy": "2020-11-16T12:51:07.235490Z",
     "iopub.status.idle": "2020-11-16T12:51:07.273149Z",
     "shell.execute_reply": "2020-11-16T12:51:07.272400Z"
    },
    "papermill": {
     "duration": 0.146889,
     "end_time": "2020-11-16T12:51:07.273295",
     "exception": false,
     "start_time": "2020-11-16T12:51:07.126406",
     "status": "completed"
    },
    "tags": []
   },
   "outputs": [
    {
     "data": {
      "text/html": [
       "<div>\n",
       "<style scoped>\n",
       "    .dataframe tbody tr th:only-of-type {\n",
       "        vertical-align: middle;\n",
       "    }\n",
       "\n",
       "    .dataframe tbody tr th {\n",
       "        vertical-align: top;\n",
       "    }\n",
       "\n",
       "    .dataframe thead th {\n",
       "        text-align: right;\n",
       "    }\n",
       "</style>\n",
       "<table border=\"1\" class=\"dataframe\">\n",
       "  <thead>\n",
       "    <tr style=\"text-align: right;\">\n",
       "      <th></th>\n",
       "      <th>Permit Type</th>\n",
       "      <th>Permit Type Definition</th>\n",
       "      <th>Permit Creation Date</th>\n",
       "      <th>Block</th>\n",
       "      <th>Lot</th>\n",
       "      <th>Street Number</th>\n",
       "      <th>Street Name</th>\n",
       "      <th>Street Suffix</th>\n",
       "      <th>Description</th>\n",
       "      <th>Current Status</th>\n",
       "      <th>Current Status Date</th>\n",
       "      <th>Filed Date</th>\n",
       "      <th>Issued Date</th>\n",
       "      <th>Completed Date</th>\n",
       "      <th>First Construction Document Date</th>\n",
       "      <th>Number of Existing Stories</th>\n",
       "      <th>Number of Proposed Stories</th>\n",
       "      <th>Permit Expiration Date</th>\n",
       "      <th>Estimated Cost</th>\n",
       "      <th>Revised Cost</th>\n",
       "      <th>Existing Use</th>\n",
       "      <th>Existing Units</th>\n",
       "      <th>Proposed Use</th>\n",
       "      <th>Proposed Units</th>\n",
       "      <th>Plansets</th>\n",
       "      <th>Existing Construction Type</th>\n",
       "      <th>Existing Construction Type Description</th>\n",
       "      <th>Proposed Construction Type</th>\n",
       "      <th>Proposed Construction Type Description</th>\n",
       "      <th>Supervisor District</th>\n",
       "      <th>Neighborhoods - Analysis Boundaries</th>\n",
       "      <th>Zipcode</th>\n",
       "      <th>Location</th>\n",
       "      <th>Record ID</th>\n",
       "      <th>Time_in_Days</th>\n",
       "    </tr>\n",
       "    <tr>\n",
       "      <th>Permit Number</th>\n",
       "      <th></th>\n",
       "      <th></th>\n",
       "      <th></th>\n",
       "      <th></th>\n",
       "      <th></th>\n",
       "      <th></th>\n",
       "      <th></th>\n",
       "      <th></th>\n",
       "      <th></th>\n",
       "      <th></th>\n",
       "      <th></th>\n",
       "      <th></th>\n",
       "      <th></th>\n",
       "      <th></th>\n",
       "      <th></th>\n",
       "      <th></th>\n",
       "      <th></th>\n",
       "      <th></th>\n",
       "      <th></th>\n",
       "      <th></th>\n",
       "      <th></th>\n",
       "      <th></th>\n",
       "      <th></th>\n",
       "      <th></th>\n",
       "      <th></th>\n",
       "      <th></th>\n",
       "      <th></th>\n",
       "      <th></th>\n",
       "      <th></th>\n",
       "      <th></th>\n",
       "      <th></th>\n",
       "      <th></th>\n",
       "      <th></th>\n",
       "      <th></th>\n",
       "      <th></th>\n",
       "    </tr>\n",
       "  </thead>\n",
       "  <tbody>\n",
       "    <tr>\n",
       "      <th>201310028257</th>\n",
       "      <td>3</td>\n",
       "      <td>additions alterations or repairs</td>\n",
       "      <td>10/02/2013</td>\n",
       "      <td>0351</td>\n",
       "      <td>001</td>\n",
       "      <td>1100</td>\n",
       "      <td>Market</td>\n",
       "      <td>St</td>\n",
       "      <td>provide automatic fire alarm system w/voice ev...</td>\n",
       "      <td>complete</td>\n",
       "      <td>12/13/2017</td>\n",
       "      <td>2013-10-02</td>\n",
       "      <td>2017-03-17</td>\n",
       "      <td>12/13/2017</td>\n",
       "      <td>03/17/2017</td>\n",
       "      <td>7.0</td>\n",
       "      <td>7.0</td>\n",
       "      <td>03/01/2020</td>\n",
       "      <td>131000.0</td>\n",
       "      <td>150000.0</td>\n",
       "      <td>tourist hotel/motel</td>\n",
       "      <td>135.0</td>\n",
       "      <td>tourist hotel/motel</td>\n",
       "      <td>135.0</td>\n",
       "      <td>2.0</td>\n",
       "      <td>1.0</td>\n",
       "      <td>constr type 1</td>\n",
       "      <td>1.0</td>\n",
       "      <td>constr type 1</td>\n",
       "      <td>6.0</td>\n",
       "      <td>Tenderloin</td>\n",
       "      <td>94102.0</td>\n",
       "      <td>(37.78087635535436, -122.41245598318183)</td>\n",
       "      <td>131948370098</td>\n",
       "      <td>1262</td>\n",
       "    </tr>\n",
       "  </tbody>\n",
       "</table>\n",
       "</div>"
      ],
      "text/plain": [
       "               Permit Type            Permit Type Definition  \\\n",
       "Permit Number                                                  \n",
       "201310028257             3  additions alterations or repairs   \n",
       "\n",
       "              Permit Creation Date Block  Lot  Street Number Street Name  \\\n",
       "Permit Number                                                              \n",
       "201310028257            10/02/2013  0351  001           1100      Market   \n",
       "\n",
       "              Street Suffix  \\\n",
       "Permit Number                 \n",
       "201310028257             St   \n",
       "\n",
       "                                                     Description  \\\n",
       "Permit Number                                                      \n",
       "201310028257   provide automatic fire alarm system w/voice ev...   \n",
       "\n",
       "              Current Status Current Status Date Filed Date Issued Date  \\\n",
       "Permit Number                                                             \n",
       "201310028257        complete          12/13/2017 2013-10-02  2017-03-17   \n",
       "\n",
       "              Completed Date First Construction Document Date  \\\n",
       "Permit Number                                                   \n",
       "201310028257      12/13/2017                       03/17/2017   \n",
       "\n",
       "               Number of Existing Stories  Number of Proposed Stories  \\\n",
       "Permit Number                                                           \n",
       "201310028257                          7.0                         7.0   \n",
       "\n",
       "              Permit Expiration Date  Estimated Cost  Revised Cost  \\\n",
       "Permit Number                                                        \n",
       "201310028257              03/01/2020        131000.0      150000.0   \n",
       "\n",
       "                      Existing Use  Existing Units         Proposed Use  \\\n",
       "Permit Number                                                             \n",
       "201310028257   tourist hotel/motel           135.0  tourist hotel/motel   \n",
       "\n",
       "               Proposed Units  Plansets  Existing Construction Type  \\\n",
       "Permit Number                                                         \n",
       "201310028257            135.0       2.0                         1.0   \n",
       "\n",
       "              Existing Construction Type Description  \\\n",
       "Permit Number                                          \n",
       "201310028257                           constr type 1   \n",
       "\n",
       "               Proposed Construction Type  \\\n",
       "Permit Number                               \n",
       "201310028257                          1.0   \n",
       "\n",
       "              Proposed Construction Type Description  Supervisor District  \\\n",
       "Permit Number                                                               \n",
       "201310028257                           constr type 1                  6.0   \n",
       "\n",
       "              Neighborhoods - Analysis Boundaries  Zipcode  \\\n",
       "Permit Number                                                \n",
       "201310028257                           Tenderloin  94102.0   \n",
       "\n",
       "                                               Location     Record ID  \\\n",
       "Permit Number                                                           \n",
       "201310028257   (37.78087635535436, -122.41245598318183)  131948370098   \n",
       "\n",
       "               Time_in_Days  \n",
       "Permit Number                \n",
       "201310028257           1262  "
      ]
     },
     "execution_count": 26,
     "metadata": {},
     "output_type": "execute_result"
    }
   ],
   "source": [
    "df.loc[df['Time_in_Days']== 1262] #exploring a row of interest\n",
    "# Permit type with longest issue time is of category 3 which involves additions, alterations or repairs"
   ]
  },
  {
   "cell_type": "code",
   "execution_count": 27,
   "metadata": {
    "execution": {
     "iopub.execute_input": "2020-11-16T12:51:07.491285Z",
     "iopub.status.busy": "2020-11-16T12:51:07.490487Z",
     "iopub.status.idle": "2020-11-16T12:51:07.554048Z",
     "shell.execute_reply": "2020-11-16T12:51:07.553446Z"
    },
    "papermill": {
     "duration": 0.175359,
     "end_time": "2020-11-16T12:51:07.554185",
     "exception": false,
     "start_time": "2020-11-16T12:51:07.378826",
     "status": "completed"
    },
    "tags": []
   },
   "outputs": [
    {
     "data": {
      "text/html": [
       "<div>\n",
       "<style scoped>\n",
       "    .dataframe tbody tr th:only-of-type {\n",
       "        vertical-align: middle;\n",
       "    }\n",
       "\n",
       "    .dataframe tbody tr th {\n",
       "        vertical-align: top;\n",
       "    }\n",
       "\n",
       "    .dataframe thead th {\n",
       "        text-align: right;\n",
       "    }\n",
       "</style>\n",
       "<table border=\"1\" class=\"dataframe\">\n",
       "  <thead>\n",
       "    <tr style=\"text-align: right;\">\n",
       "      <th></th>\n",
       "      <th>Permit Type</th>\n",
       "      <th>Permit Type Definition</th>\n",
       "      <th>Permit Creation Date</th>\n",
       "      <th>Block</th>\n",
       "      <th>Lot</th>\n",
       "      <th>Street Number</th>\n",
       "      <th>Street Name</th>\n",
       "      <th>Street Suffix</th>\n",
       "      <th>Description</th>\n",
       "      <th>Current Status</th>\n",
       "      <th>Current Status Date</th>\n",
       "      <th>Filed Date</th>\n",
       "      <th>Issued Date</th>\n",
       "      <th>Completed Date</th>\n",
       "      <th>First Construction Document Date</th>\n",
       "      <th>Number of Existing Stories</th>\n",
       "      <th>Number of Proposed Stories</th>\n",
       "      <th>Permit Expiration Date</th>\n",
       "      <th>Estimated Cost</th>\n",
       "      <th>Revised Cost</th>\n",
       "      <th>Existing Use</th>\n",
       "      <th>Existing Units</th>\n",
       "      <th>Proposed Use</th>\n",
       "      <th>Proposed Units</th>\n",
       "      <th>Plansets</th>\n",
       "      <th>Existing Construction Type</th>\n",
       "      <th>Existing Construction Type Description</th>\n",
       "      <th>Proposed Construction Type</th>\n",
       "      <th>Proposed Construction Type Description</th>\n",
       "      <th>Supervisor District</th>\n",
       "      <th>Neighborhoods - Analysis Boundaries</th>\n",
       "      <th>Zipcode</th>\n",
       "      <th>Location</th>\n",
       "      <th>Record ID</th>\n",
       "      <th>Time_in_Days</th>\n",
       "    </tr>\n",
       "    <tr>\n",
       "      <th>Permit Number</th>\n",
       "      <th></th>\n",
       "      <th></th>\n",
       "      <th></th>\n",
       "      <th></th>\n",
       "      <th></th>\n",
       "      <th></th>\n",
       "      <th></th>\n",
       "      <th></th>\n",
       "      <th></th>\n",
       "      <th></th>\n",
       "      <th></th>\n",
       "      <th></th>\n",
       "      <th></th>\n",
       "      <th></th>\n",
       "      <th></th>\n",
       "      <th></th>\n",
       "      <th></th>\n",
       "      <th></th>\n",
       "      <th></th>\n",
       "      <th></th>\n",
       "      <th></th>\n",
       "      <th></th>\n",
       "      <th></th>\n",
       "      <th></th>\n",
       "      <th></th>\n",
       "      <th></th>\n",
       "      <th></th>\n",
       "      <th></th>\n",
       "      <th></th>\n",
       "      <th></th>\n",
       "      <th></th>\n",
       "      <th></th>\n",
       "      <th></th>\n",
       "      <th></th>\n",
       "      <th></th>\n",
       "    </tr>\n",
       "  </thead>\n",
       "  <tbody>\n",
       "    <tr>\n",
       "      <th>201706300814</th>\n",
       "      <td>8</td>\n",
       "      <td>otc alterations permit</td>\n",
       "      <td>06/30/2017</td>\n",
       "      <td>1739</td>\n",
       "      <td>020</td>\n",
       "      <td>1291</td>\n",
       "      <td>11th</td>\n",
       "      <td>Av</td>\n",
       "      <td>re-roofing</td>\n",
       "      <td>complete</td>\n",
       "      <td>07/12/2017</td>\n",
       "      <td>2017-06-30</td>\n",
       "      <td>2017-06-30</td>\n",
       "      <td>07/12/2017</td>\n",
       "      <td>06/30/2017</td>\n",
       "      <td>3.0</td>\n",
       "      <td>3.0</td>\n",
       "      <td>06/25/2018</td>\n",
       "      <td>12000.0</td>\n",
       "      <td>12000.0</td>\n",
       "      <td>apartments</td>\n",
       "      <td>5.0</td>\n",
       "      <td>apartments</td>\n",
       "      <td>5.0</td>\n",
       "      <td>0.0</td>\n",
       "      <td>5.0</td>\n",
       "      <td>wood frame (5)</td>\n",
       "      <td>5.0</td>\n",
       "      <td>wood frame (5)</td>\n",
       "      <td>5.0</td>\n",
       "      <td>Inner Sunset</td>\n",
       "      <td>94122.0</td>\n",
       "      <td>(37.764145640138565, -122.46875112470363)</td>\n",
       "      <td>1468970403692</td>\n",
       "      <td>0</td>\n",
       "    </tr>\n",
       "    <tr>\n",
       "      <th>201710110928</th>\n",
       "      <td>8</td>\n",
       "      <td>otc alterations permit</td>\n",
       "      <td>10/11/2017</td>\n",
       "      <td>5934</td>\n",
       "      <td>020</td>\n",
       "      <td>938</td>\n",
       "      <td>Felton</td>\n",
       "      <td>St</td>\n",
       "      <td>reroofing</td>\n",
       "      <td>complete</td>\n",
       "      <td>10/31/2017</td>\n",
       "      <td>2017-10-11</td>\n",
       "      <td>2017-10-11</td>\n",
       "      <td>10/31/2017</td>\n",
       "      <td>10/11/2017</td>\n",
       "      <td>2.0</td>\n",
       "      <td>2.0</td>\n",
       "      <td>04/11/2018</td>\n",
       "      <td>14000.0</td>\n",
       "      <td>14000.0</td>\n",
       "      <td>1 family dwelling</td>\n",
       "      <td>1.0</td>\n",
       "      <td>1 family dwelling</td>\n",
       "      <td>1.0</td>\n",
       "      <td>0.0</td>\n",
       "      <td>5.0</td>\n",
       "      <td>wood frame (5)</td>\n",
       "      <td>5.0</td>\n",
       "      <td>wood frame (5)</td>\n",
       "      <td>9.0</td>\n",
       "      <td>Portola</td>\n",
       "      <td>94134.0</td>\n",
       "      <td>(37.72775517946509, -122.41419227409298)</td>\n",
       "      <td>1482932191681</td>\n",
       "      <td>0</td>\n",
       "    </tr>\n",
       "    <tr>\n",
       "      <th>201408254591</th>\n",
       "      <td>8</td>\n",
       "      <td>otc alterations permit</td>\n",
       "      <td>08/25/2014</td>\n",
       "      <td>3509</td>\n",
       "      <td>029</td>\n",
       "      <td>63</td>\n",
       "      <td>Grace</td>\n",
       "      <td>St</td>\n",
       "      <td>to comply with physical inspection report cc7777</td>\n",
       "      <td>complete</td>\n",
       "      <td>10/04/2017</td>\n",
       "      <td>2014-08-25</td>\n",
       "      <td>2014-08-25</td>\n",
       "      <td>10/04/2017</td>\n",
       "      <td>08/25/2014</td>\n",
       "      <td>3.0</td>\n",
       "      <td>3.0</td>\n",
       "      <td>08/20/2015</td>\n",
       "      <td>500.0</td>\n",
       "      <td>500.0</td>\n",
       "      <td>apartments</td>\n",
       "      <td>4.0</td>\n",
       "      <td>apartments</td>\n",
       "      <td>4.0</td>\n",
       "      <td>0.0</td>\n",
       "      <td>5.0</td>\n",
       "      <td>wood frame (5)</td>\n",
       "      <td>5.0</td>\n",
       "      <td>wood frame (5)</td>\n",
       "      <td>6.0</td>\n",
       "      <td>South of Market</td>\n",
       "      <td>94103.0</td>\n",
       "      <td>(37.774944547030586, -122.41443674356925)</td>\n",
       "      <td>1353299454075</td>\n",
       "      <td>0</td>\n",
       "    </tr>\n",
       "    <tr>\n",
       "      <th>201604064066</th>\n",
       "      <td>8</td>\n",
       "      <td>otc alterations permit</td>\n",
       "      <td>04/06/2016</td>\n",
       "      <td>1497</td>\n",
       "      <td>016E</td>\n",
       "      <td>583</td>\n",
       "      <td>47th</td>\n",
       "      <td>Av</td>\n",
       "      <td>permeation grouting of 22 lineal ft of foundation</td>\n",
       "      <td>complete</td>\n",
       "      <td>09/28/2017</td>\n",
       "      <td>2016-04-06</td>\n",
       "      <td>2016-04-06</td>\n",
       "      <td>09/28/2017</td>\n",
       "      <td>04/06/2016</td>\n",
       "      <td>2.0</td>\n",
       "      <td>2.0</td>\n",
       "      <td>04/01/2017</td>\n",
       "      <td>8200.0</td>\n",
       "      <td>8200.0</td>\n",
       "      <td>1 family dwelling</td>\n",
       "      <td>1.0</td>\n",
       "      <td>1 family dwelling</td>\n",
       "      <td>1.0</td>\n",
       "      <td>2.0</td>\n",
       "      <td>5.0</td>\n",
       "      <td>wood frame (5)</td>\n",
       "      <td>5.0</td>\n",
       "      <td>wood frame (5)</td>\n",
       "      <td>1.0</td>\n",
       "      <td>Outer Richmond</td>\n",
       "      <td>94121.0</td>\n",
       "      <td>(37.77743123832622, -122.50842623186071)</td>\n",
       "      <td>1418654101552</td>\n",
       "      <td>0</td>\n",
       "    </tr>\n",
       "    <tr>\n",
       "      <th>201609097214</th>\n",
       "      <td>8</td>\n",
       "      <td>otc alterations permit</td>\n",
       "      <td>09/09/2016</td>\n",
       "      <td>7241</td>\n",
       "      <td>032</td>\n",
       "      <td>291</td>\n",
       "      <td>Stratford</td>\n",
       "      <td>Dr</td>\n",
       "      <td>reroofing</td>\n",
       "      <td>complete</td>\n",
       "      <td>09/22/2017</td>\n",
       "      <td>2016-09-09</td>\n",
       "      <td>2016-09-09</td>\n",
       "      <td>09/22/2017</td>\n",
       "      <td>09/09/2016</td>\n",
       "      <td>1.0</td>\n",
       "      <td>1.0</td>\n",
       "      <td>09/04/2017</td>\n",
       "      <td>9800.0</td>\n",
       "      <td>9800.0</td>\n",
       "      <td>1 family dwelling</td>\n",
       "      <td>1.0</td>\n",
       "      <td>1 family dwelling</td>\n",
       "      <td>1.0</td>\n",
       "      <td>0.0</td>\n",
       "      <td>5.0</td>\n",
       "      <td>wood frame (5)</td>\n",
       "      <td>5.0</td>\n",
       "      <td>wood frame (5)</td>\n",
       "      <td>7.0</td>\n",
       "      <td>West of Twin Peaks</td>\n",
       "      <td>94132.0</td>\n",
       "      <td>(37.720049707114235, -122.47335185005464)</td>\n",
       "      <td>1436733224960</td>\n",
       "      <td>0</td>\n",
       "    </tr>\n",
       "  </tbody>\n",
       "</table>\n",
       "</div>"
      ],
      "text/plain": [
       "               Permit Type  Permit Type Definition Permit Creation Date Block  \\\n",
       "Permit Number                                                                   \n",
       "201706300814             8  otc alterations permit           06/30/2017  1739   \n",
       "201710110928             8  otc alterations permit           10/11/2017  5934   \n",
       "201408254591             8  otc alterations permit           08/25/2014  3509   \n",
       "201604064066             8  otc alterations permit           04/06/2016  1497   \n",
       "201609097214             8  otc alterations permit           09/09/2016  7241   \n",
       "\n",
       "                Lot  Street Number Street Name Street Suffix  \\\n",
       "Permit Number                                                  \n",
       "201706300814    020           1291        11th            Av   \n",
       "201710110928    020            938      Felton            St   \n",
       "201408254591    029             63       Grace            St   \n",
       "201604064066   016E            583        47th            Av   \n",
       "201609097214    032            291   Stratford            Dr   \n",
       "\n",
       "                                                     Description  \\\n",
       "Permit Number                                                      \n",
       "201706300814                                          re-roofing   \n",
       "201710110928                                           reroofing   \n",
       "201408254591    to comply with physical inspection report cc7777   \n",
       "201604064066   permeation grouting of 22 lineal ft of foundation   \n",
       "201609097214                                           reroofing   \n",
       "\n",
       "              Current Status Current Status Date Filed Date Issued Date  \\\n",
       "Permit Number                                                             \n",
       "201706300814        complete          07/12/2017 2017-06-30  2017-06-30   \n",
       "201710110928        complete          10/31/2017 2017-10-11  2017-10-11   \n",
       "201408254591        complete          10/04/2017 2014-08-25  2014-08-25   \n",
       "201604064066        complete          09/28/2017 2016-04-06  2016-04-06   \n",
       "201609097214        complete          09/22/2017 2016-09-09  2016-09-09   \n",
       "\n",
       "              Completed Date First Construction Document Date  \\\n",
       "Permit Number                                                   \n",
       "201706300814      07/12/2017                       06/30/2017   \n",
       "201710110928      10/31/2017                       10/11/2017   \n",
       "201408254591      10/04/2017                       08/25/2014   \n",
       "201604064066      09/28/2017                       04/06/2016   \n",
       "201609097214      09/22/2017                       09/09/2016   \n",
       "\n",
       "               Number of Existing Stories  Number of Proposed Stories  \\\n",
       "Permit Number                                                           \n",
       "201706300814                          3.0                         3.0   \n",
       "201710110928                          2.0                         2.0   \n",
       "201408254591                          3.0                         3.0   \n",
       "201604064066                          2.0                         2.0   \n",
       "201609097214                          1.0                         1.0   \n",
       "\n",
       "              Permit Expiration Date  Estimated Cost  Revised Cost  \\\n",
       "Permit Number                                                        \n",
       "201706300814              06/25/2018         12000.0       12000.0   \n",
       "201710110928              04/11/2018         14000.0       14000.0   \n",
       "201408254591              08/20/2015           500.0         500.0   \n",
       "201604064066              04/01/2017          8200.0        8200.0   \n",
       "201609097214              09/04/2017          9800.0        9800.0   \n",
       "\n",
       "                    Existing Use  Existing Units       Proposed Use  \\\n",
       "Permit Number                                                         \n",
       "201706300814          apartments             5.0         apartments   \n",
       "201710110928   1 family dwelling             1.0  1 family dwelling   \n",
       "201408254591          apartments             4.0         apartments   \n",
       "201604064066   1 family dwelling             1.0  1 family dwelling   \n",
       "201609097214   1 family dwelling             1.0  1 family dwelling   \n",
       "\n",
       "               Proposed Units  Plansets  Existing Construction Type  \\\n",
       "Permit Number                                                         \n",
       "201706300814              5.0       0.0                         5.0   \n",
       "201710110928              1.0       0.0                         5.0   \n",
       "201408254591              4.0       0.0                         5.0   \n",
       "201604064066              1.0       2.0                         5.0   \n",
       "201609097214              1.0       0.0                         5.0   \n",
       "\n",
       "              Existing Construction Type Description  \\\n",
       "Permit Number                                          \n",
       "201706300814                          wood frame (5)   \n",
       "201710110928                          wood frame (5)   \n",
       "201408254591                          wood frame (5)   \n",
       "201604064066                          wood frame (5)   \n",
       "201609097214                          wood frame (5)   \n",
       "\n",
       "               Proposed Construction Type  \\\n",
       "Permit Number                               \n",
       "201706300814                          5.0   \n",
       "201710110928                          5.0   \n",
       "201408254591                          5.0   \n",
       "201604064066                          5.0   \n",
       "201609097214                          5.0   \n",
       "\n",
       "              Proposed Construction Type Description  Supervisor District  \\\n",
       "Permit Number                                                               \n",
       "201706300814                          wood frame (5)                  5.0   \n",
       "201710110928                          wood frame (5)                  9.0   \n",
       "201408254591                          wood frame (5)                  6.0   \n",
       "201604064066                          wood frame (5)                  1.0   \n",
       "201609097214                          wood frame (5)                  7.0   \n",
       "\n",
       "              Neighborhoods - Analysis Boundaries  Zipcode  \\\n",
       "Permit Number                                                \n",
       "201706300814                         Inner Sunset  94122.0   \n",
       "201710110928                              Portola  94134.0   \n",
       "201408254591                      South of Market  94103.0   \n",
       "201604064066                       Outer Richmond  94121.0   \n",
       "201609097214                   West of Twin Peaks  94132.0   \n",
       "\n",
       "                                                Location      Record ID  \\\n",
       "Permit Number                                                             \n",
       "201706300814   (37.764145640138565, -122.46875112470363)  1468970403692   \n",
       "201710110928    (37.72775517946509, -122.41419227409298)  1482932191681   \n",
       "201408254591   (37.774944547030586, -122.41443674356925)  1353299454075   \n",
       "201604064066    (37.77743123832622, -122.50842623186071)  1418654101552   \n",
       "201609097214   (37.720049707114235, -122.47335185005464)  1436733224960   \n",
       "\n",
       "               Time_in_Days  \n",
       "Permit Number                \n",
       "201706300814              0  \n",
       "201710110928              0  \n",
       "201408254591              0  \n",
       "201604064066              0  \n",
       "201609097214              0  "
      ]
     },
     "execution_count": 27,
     "metadata": {},
     "output_type": "execute_result"
    }
   ],
   "source": [
    "df.loc[df['Time_in_Days']== 0][:5] \n",
    "# Permit type with shortest issue time are majorly of category 8"
   ]
  },
  {
   "cell_type": "code",
   "execution_count": 28,
   "metadata": {
    "execution": {
     "iopub.execute_input": "2020-11-16T12:51:07.776447Z",
     "iopub.status.busy": "2020-11-16T12:51:07.775550Z",
     "iopub.status.idle": "2020-11-16T12:51:07.780642Z",
     "shell.execute_reply": "2020-11-16T12:51:07.781275Z"
    },
    "papermill": {
     "duration": 0.121263,
     "end_time": "2020-11-16T12:51:07.781438",
     "exception": false,
     "start_time": "2020-11-16T12:51:07.660175",
     "status": "completed"
    },
    "tags": []
   },
   "outputs": [],
   "source": [
    "count_in_days=df['Time_in_Days'].value_counts(sort=True)"
   ]
  },
  {
   "cell_type": "code",
   "execution_count": 29,
   "metadata": {
    "execution": {
     "iopub.execute_input": "2020-11-16T12:51:08.005286Z",
     "iopub.status.busy": "2020-11-16T12:51:08.004264Z",
     "iopub.status.idle": "2020-11-16T12:51:08.008167Z",
     "shell.execute_reply": "2020-11-16T12:51:08.008818Z"
    },
    "papermill": {
     "duration": 0.120517,
     "end_time": "2020-11-16T12:51:08.009002",
     "exception": false,
     "start_time": "2020-11-16T12:51:07.888485",
     "status": "completed"
    },
    "tags": []
   },
   "outputs": [
    {
     "name": "stdout",
     "output_type": "stream",
     "text": [
      "0    50579\n",
      "1     4874\n",
      "2     2005\n",
      "3     1989\n",
      "4     1624\n",
      "Name: Time_in_Days, dtype: int64\n"
     ]
    }
   ],
   "source": [
    "print(count_in_days.head()) # The highest number of permits are processed in a few hours."
   ]
  },
  {
   "cell_type": "code",
   "execution_count": 30,
   "metadata": {
    "execution": {
     "iopub.execute_input": "2020-11-16T12:51:08.273669Z",
     "iopub.status.busy": "2020-11-16T12:51:08.272570Z",
     "iopub.status.idle": "2020-11-16T12:51:08.277880Z",
     "shell.execute_reply": "2020-11-16T12:51:08.278855Z"
    },
    "papermill": {
     "duration": 0.160692,
     "end_time": "2020-11-16T12:51:08.279088",
     "exception": false,
     "start_time": "2020-11-16T12:51:08.118396",
     "status": "completed"
    },
    "tags": []
   },
   "outputs": [
    {
     "name": "stdout",
     "output_type": "stream",
     "text": [
      "700    1\n",
      "797    1\n",
      "527    1\n",
      "446    1\n",
      "474    1\n",
      "Name: Time_in_Days, dtype: int64\n"
     ]
    }
   ],
   "source": [
    "#we also have a number single permit recordes with high processing times.\n",
    "print(count_in_days.tail())\n"
   ]
  },
  {
   "cell_type": "code",
   "execution_count": 31,
   "metadata": {
    "execution": {
     "iopub.execute_input": "2020-11-16T12:51:08.509742Z",
     "iopub.status.busy": "2020-11-16T12:51:08.508863Z",
     "iopub.status.idle": "2020-11-16T12:51:08.950835Z",
     "shell.execute_reply": "2020-11-16T12:51:08.949994Z"
    },
    "papermill": {
     "duration": 0.556946,
     "end_time": "2020-11-16T12:51:08.950971",
     "exception": false,
     "start_time": "2020-11-16T12:51:08.394025",
     "status": "completed"
    },
    "tags": []
   },
   "outputs": [
    {
     "data": {
      "image/png": "[encoded data removed]",
      "text/plain": [
       "<Figure size 432x288 with 1 Axes>"
      ]
     },
     "metadata": {
      "needs_background": "light"
     },
     "output_type": "display_data"
    }
   ],
   "source": [
    "plt.hist(count_in_days, bins = 50, edgecolor = 'k');\n",
    "plt.xlabel('Time Taken in Days'); plt.ylabel('Count of records'); \n",
    "plt.title('Count of days distribution')\n",
    "plt.show()\n",
    "#It's a highly skewed distribution of the time taken for various permits to be processed"
   ]
  },
  {
   "cell_type": "code",
   "execution_count": 32,
   "metadata": {
    "execution": {
     "iopub.execute_input": "2020-11-16T12:51:09.187453Z",
     "iopub.status.busy": "2020-11-16T12:51:09.178945Z",
     "iopub.status.idle": "2020-11-16T12:51:09.372275Z",
     "shell.execute_reply": "2020-11-16T12:51:09.371650Z"
    },
    "papermill": {
     "duration": 0.30918,
     "end_time": "2020-11-16T12:51:09.372409",
     "exception": false,
     "start_time": "2020-11-16T12:51:09.063229",
     "status": "completed"
    },
    "tags": []
   },
   "outputs": [
    {
     "data": {
      "image/png": "[encoded data removed]",
      "text/plain": [
       "<Figure size 432x288 with 1 Axes>"
      ]
     },
     "metadata": {
      "needs_background": "light"
     },
     "output_type": "display_data"
    }
   ],
   "source": [
    "sns.kdeplot(data=count_in_days,shade=False,alpha=0.8)\n",
    "plt.show() #gives a clear representation of skewness in the time in days taken by various permits"
   ]
  },
  {
   "cell_type": "markdown",
   "metadata": {
    "papermill": {
     "duration": 0.111898,
     "end_time": "2020-11-16T12:51:09.594676",
     "exception": false,
     "start_time": "2020-11-16T12:51:09.482778",
     "status": "completed"
    },
    "tags": []
   },
   "source": [
    "**Visualizing some categorical columns:Permit Type,Permit Type Definition,Current Status, Existing Construction Type **"
   ]
  },
  {
   "cell_type": "code",
   "execution_count": 33,
   "metadata": {
    "execution": {
     "iopub.execute_input": "2020-11-16T12:51:09.880496Z",
     "iopub.status.busy": "2020-11-16T12:51:09.829642Z",
     "iopub.status.idle": "2020-11-16T12:51:10.971057Z",
     "shell.execute_reply": "2020-11-16T12:51:10.971708Z"
    },
    "papermill": {
     "duration": 1.266871,
     "end_time": "2020-11-16T12:51:10.971908",
     "exception": false,
     "start_time": "2020-11-16T12:51:09.705037",
     "status": "completed"
    },
    "tags": []
   },
   "outputs": [
    {
     "data": {
      "image/png": "[encoded data removed]",
      "text/plain": [
       "<Figure size 576x432 with 1 Axes>"
      ]
     },
     "metadata": {
      "needs_background": "light"
     },
     "output_type": "display_data"
    }
   ],
   "source": [
    "# Lets do some bivariate plotting\n",
    "fig=plt.figure(figsize=(8,6))\n",
    "sns.barplot(x=df['Permit Type'],y=df['Time_in_Days'],hue='Permit Type',data=df)\n",
    "plt.xlabel('Permit Type')\n",
    "plt.xticks(size=14)\n",
    "plt.ylabel('Time in Days')\n",
    "plt.title('Time in days for various  permit types')\n",
    "\n",
    "plt.show();"
   ]
  },
  {
   "cell_type": "markdown",
   "metadata": {
    "papermill": {
     "duration": 0.111846,
     "end_time": "2020-11-16T12:51:11.197152",
     "exception": false,
     "start_time": "2020-11-16T12:51:11.085306",
     "status": "completed"
    },
    "tags": []
   },
   "source": [
    "It can be observed that Permit type of category 8 take the least time to process,followed by permit type 3 while permit type 2  take the most time on average to process."
   ]
  },
  {
   "cell_type": "code",
   "execution_count": 34,
   "metadata": {
    "execution": {
     "iopub.execute_input": "2020-11-16T12:51:11.454451Z",
     "iopub.status.busy": "2020-11-16T12:51:11.453267Z",
     "iopub.status.idle": "2020-11-16T12:51:11.684542Z",
     "shell.execute_reply": "2020-11-16T12:51:11.683854Z"
    },
    "papermill": {
     "duration": 0.367397,
     "end_time": "2020-11-16T12:51:11.684687",
     "exception": false,
     "start_time": "2020-11-16T12:51:11.317290",
     "status": "completed"
    },
    "tags": []
   },
   "outputs": [
    {
     "data": {
      "image/png": "[encoded data removed]",
      "text/plain": [
       "<Figure size 576x576 with 1 Axes>"
      ]
     },
     "metadata": {
      "needs_background": "light"
     },
     "output_type": "display_data"
    }
   ],
   "source": [
    "fig=plt.figure(figsize=(8, 8))\n",
    "plt.hist(df['Permit Type'], bins = 20, edgecolor = 'black');\n",
    "plt.xlabel('Permit type'); \n",
    "plt.ylabel('Count'); plt.title('Permit Type Distribution');"
   ]
  },
  {
   "cell_type": "markdown",
   "metadata": {
    "papermill": {
     "duration": 0.114141,
     "end_time": "2020-11-16T12:51:11.911415",
     "exception": false,
     "start_time": "2020-11-16T12:51:11.797274",
     "status": "completed"
    },
    "tags": []
   },
   "source": [
    "The histogram above shows that other permit types categories 2,4,5,6,7 do not have a significant count of records.\n",
    "Permit types categories 8 and 3 are the common permit types to be issued.\n",
    "\n",
    "Lets Explore the current status variable with emphasis to key values such as issued, revoked and incomplete permit applicatons."
   ]
  },
  {
   "cell_type": "code",
   "execution_count": 35,
   "metadata": {
    "execution": {
     "iopub.execute_input": "2020-11-16T12:51:12.147231Z",
     "iopub.status.busy": "2020-11-16T12:51:12.146189Z",
     "iopub.status.idle": "2020-11-16T12:51:12.149527Z",
     "shell.execute_reply": "2020-11-16T12:51:12.148859Z"
    },
    "papermill": {
     "duration": 0.124937,
     "end_time": "2020-11-16T12:51:12.149673",
     "exception": false,
     "start_time": "2020-11-16T12:51:12.024736",
     "status": "completed"
    },
    "tags": []
   },
   "outputs": [],
   "source": [
    "Pmtdata1 =df[df['Current Status'].isin(['issued','revoked','incomplete']) ] "
   ]
  },
  {
   "cell_type": "code",
   "execution_count": 36,
   "metadata": {
    "execution": {
     "iopub.execute_input": "2020-11-16T12:51:12.384685Z",
     "iopub.status.busy": "2020-11-16T12:51:12.383757Z",
     "iopub.status.idle": "2020-11-16T12:51:12.388148Z",
     "shell.execute_reply": "2020-11-16T12:51:12.387413Z"
    },
    "papermill": {
     "duration": 0.126667,
     "end_time": "2020-11-16T12:51:12.388313",
     "exception": false,
     "start_time": "2020-11-16T12:51:12.261646",
     "status": "completed"
    },
    "tags": []
   },
   "outputs": [
    {
     "data": {
      "text/plain": [
       "Permit Number\n",
       "201301087513    issued\n",
       "201301087513    issued\n",
       "201302059458    issued\n",
       "201302150374    issued\n",
       "201302150374    issued\n",
       "Name: Current Status, dtype: object"
      ]
     },
     "execution_count": 36,
     "metadata": {},
     "output_type": "execute_result"
    }
   ],
   "source": [
    "Pmtdata1['Current Status'].head()"
   ]
  },
  {
   "cell_type": "code",
   "execution_count": 37,
   "metadata": {
    "execution": {
     "iopub.execute_input": "2020-11-16T12:51:12.642305Z",
     "iopub.status.busy": "2020-11-16T12:51:12.633768Z",
     "iopub.status.idle": "2020-11-16T12:51:12.910542Z",
     "shell.execute_reply": "2020-11-16T12:51:12.909666Z"
    },
    "papermill": {
     "duration": 0.405586,
     "end_time": "2020-11-16T12:51:12.910684",
     "exception": false,
     "start_time": "2020-11-16T12:51:12.505098",
     "status": "completed"
    },
    "tags": []
   },
   "outputs": [
    {
     "data": {
      "text/plain": [
       "<Figure size 576x432 with 0 Axes>"
      ]
     },
     "metadata": {},
     "output_type": "display_data"
    },
    {
     "data": {
      "image/png": "[encoded data removed]",
      "text/plain": [
       "<Figure size 451.625x360 with 1 Axes>"
      ]
     },
     "metadata": {
      "needs_background": "light"
     },
     "output_type": "display_data"
    }
   ],
   "source": [
    "# plot both together to compare\n",
    "fig=plt.figure(figsize=(8,6))\n",
    "sns.catplot(x='Permit Type',hue='Current Status',kind='count',data=Pmtdata1)\n",
    "plt.xlabel('Current Status')\n",
    "plt.xticks()\n",
    "plt.ylabel('Number of permits')\n",
    "plt.title('Current status  permit types')\n",
    "plt.xticks()\n",
    "plt.show()"
   ]
  },
  {
   "cell_type": "markdown",
   "metadata": {
    "papermill": {
     "duration": 0.115454,
     "end_time": "2020-11-16T12:51:13.140139",
     "exception": false,
     "start_time": "2020-11-16T12:51:13.024685",
     "status": "completed"
    },
    "tags": []
   },
   "source": [
    " **The Bar Graph above shows that there are more permits that are issued, a few permits that are revoked and a slight number of them that are incomplete meaning that there are more chances for a permit to be issued once all required documents have been submitted.**"
   ]
  },
  {
   "cell_type": "code",
   "execution_count": 38,
   "metadata": {
    "execution": {
     "iopub.execute_input": "2020-11-16T12:51:13.387337Z",
     "iopub.status.busy": "2020-11-16T12:51:13.386458Z",
     "iopub.status.idle": "2020-11-16T12:51:15.327703Z",
     "shell.execute_reply": "2020-11-16T12:51:15.328354Z"
    },
    "papermill": {
     "duration": 2.073712,
     "end_time": "2020-11-16T12:51:15.328551",
     "exception": false,
     "start_time": "2020-11-16T12:51:13.254839",
     "status": "completed"
    },
    "tags": []
   },
   "outputs": [
    {
     "data": {
      "text/plain": [
       "<Figure size 576x432 with 0 Axes>"
      ]
     },
     "metadata": {},
     "output_type": "display_data"
    },
    {
     "data": {
      "image/png": "[encoded data removed]",
      "text/plain": [
       "<Figure size 426x360 with 1 Axes>"
      ]
     },
     "metadata": {
      "needs_background": "light"
     },
     "output_type": "display_data"
    }
   ],
   "source": [
    "# A Count plot showing distribution of Permit Type Definition with permit types\n",
    "fig=plt.figure(figsize=(8,6))\n",
    "sns.catplot(y='Permit Type Definition',hue='Permit Type',kind='count',data=df)\n",
    "plt.xlabel('Permit counts')\n",
    "plt.xticks()\n",
    "plt.ylabel('Permit Type Definition')\n",
    "plt.title('Number of permits per permit type definition')\n",
    "plt.show()"
   ]
  },
  {
   "cell_type": "markdown",
   "metadata": {
    "papermill": {
     "duration": 0.117551,
     "end_time": "2020-11-16T12:51:15.561522",
     "exception": false,
     "start_time": "2020-11-16T12:51:15.443971",
     "status": "completed"
    },
    "tags": []
   },
   "source": [
    "**Graph above shows that Alterations permits are the common permits type definition in the data with other permits definitions greatly skewed.**"
   ]
  },
  {
   "cell_type": "code",
   "execution_count": 39,
   "metadata": {
    "execution": {
     "iopub.execute_input": "2020-11-16T12:51:15.803054Z",
     "iopub.status.busy": "2020-11-16T12:51:15.802276Z",
     "iopub.status.idle": "2020-11-16T12:51:17.661746Z",
     "shell.execute_reply": "2020-11-16T12:51:17.661066Z"
    },
    "papermill": {
     "duration": 1.984087,
     "end_time": "2020-11-16T12:51:17.661895",
     "exception": false,
     "start_time": "2020-11-16T12:51:15.677808",
     "status": "completed"
    },
    "tags": []
   },
   "outputs": [
    {
     "data": {
      "text/plain": [
       "<Figure size 576x432 with 0 Axes>"
      ]
     },
     "metadata": {},
     "output_type": "display_data"
    },
    {
     "data": {
      "image/png": "[encoded data removed]",
      "text/plain": [
       "<Figure size 500.25x360 with 1 Axes>"
      ]
     },
     "metadata": {
      "needs_background": "light"
     },
     "output_type": "display_data"
    }
   ],
   "source": [
    "# plot both together to compare\n",
    "fig=plt.figure(figsize=(8,6))\n",
    "sns.catplot(x='Permit Type',hue='Existing Construction Type',kind='count',data=df)\n",
    "plt.xlabel('Permit Types')\n",
    "plt.ylabel('Count of Existing Construction types')\n",
    "plt.title('Count of Permit types for existing construction types')\n",
    "plt.xticks()\n",
    "plt.show()"
   ]
  },
  {
   "cell_type": "markdown",
   "metadata": {
    "papermill": {
     "duration": 0.117815,
     "end_time": "2020-11-16T12:51:17.899962",
     "exception": false,
     "start_time": "2020-11-16T12:51:17.782147",
     "status": "completed"
    },
    "tags": []
   },
   "source": [
    "**The most construction types permits issued belong to Existing Construction type 5.0 which is reflected across the major permit types 8 and 3, then followed by construction type 1.0 ,3.0,2.0 and least number of permits belong to construction type 4.0.**\n",
    "\n",
    "**Visualise highly skewed columns which include: estimated cost, revised cost, plansets. and decrease on thier skewness so as to produce better models.**"
   ]
  },
  {
   "cell_type": "code",
   "execution_count": 40,
   "metadata": {
    "execution": {
     "iopub.execute_input": "2020-11-16T12:51:18.151054Z",
     "iopub.status.busy": "2020-11-16T12:51:18.149816Z",
     "iopub.status.idle": "2020-11-16T12:51:18.344075Z",
     "shell.execute_reply": "2020-11-16T12:51:18.343452Z"
    },
    "papermill": {
     "duration": 0.326299,
     "end_time": "2020-11-16T12:51:18.344208",
     "exception": false,
     "start_time": "2020-11-16T12:51:18.017909",
     "status": "completed"
    },
    "tags": []
   },
   "outputs": [
    {
     "data": {
      "image/png": "[encoded data removed]",
      "text/plain": [
       "<Figure size 432x288 with 1 Axes>"
      ]
     },
     "metadata": {
      "needs_background": "light"
     },
     "output_type": "display_data"
    }
   ],
   "source": [
    "sns.kdeplot(data=df['Estimated Cost'] ,shade=False,alpha=0.8)\n",
    "plt.show()\n",
    "#graph below shows a skewed distribution to right"
   ]
  },
  {
   "cell_type": "code",
   "execution_count": 41,
   "metadata": {
    "execution": {
     "iopub.execute_input": "2020-11-16T12:51:18.597726Z",
     "iopub.status.busy": "2020-11-16T12:51:18.596949Z",
     "iopub.status.idle": "2020-11-16T12:51:18.645766Z",
     "shell.execute_reply": "2020-11-16T12:51:18.644951Z"
    },
    "papermill": {
     "duration": 0.178359,
     "end_time": "2020-11-16T12:51:18.645902",
     "exception": false,
     "start_time": "2020-11-16T12:51:18.467543",
     "status": "completed"
    },
    "tags": []
   },
   "outputs": [],
   "source": [
    "# Calculate first and third quartile\n",
    "first_quartile = df['Estimated Cost'].describe()['25%']\n",
    "third_quartile = df['Estimated Cost'].describe()['75%']\n",
    "\n",
    "# Interquartile range\n",
    "iqr = third_quartile - first_quartile\n",
    "\n",
    "# Remove outliers\n",
    "df = df[(df['Estimated Cost'] > (first_quartile - 3 * iqr)) &\n",
    "            (df['Estimated Cost'] < (third_quartile + 3 * iqr))]"
   ]
  },
  {
   "cell_type": "code",
   "execution_count": 42,
   "metadata": {
    "execution": {
     "iopub.execute_input": "2020-11-16T12:51:18.896003Z",
     "iopub.status.busy": "2020-11-16T12:51:18.890580Z",
     "iopub.status.idle": "2020-11-16T12:51:19.085790Z",
     "shell.execute_reply": "2020-11-16T12:51:19.085071Z"
    },
    "papermill": {
     "duration": 0.320431,
     "end_time": "2020-11-16T12:51:19.085927",
     "exception": false,
     "start_time": "2020-11-16T12:51:18.765496",
     "status": "completed"
    },
    "tags": []
   },
   "outputs": [
    {
     "data": {
      "image/png": "[encoded data removed]",
      "text/plain": [
       "<Figure size 432x288 with 1 Axes>"
      ]
     },
     "metadata": {
      "needs_background": "light"
     },
     "output_type": "display_data"
    }
   ],
   "source": [
    "sns.kdeplot(data=df['Estimated Cost'] ,shade=False,alpha=0.8)\n",
    "plt.show() #this shows a better shape with decreased skewness"
   ]
  },
  {
   "cell_type": "code",
   "execution_count": 43,
   "metadata": {
    "execution": {
     "iopub.execute_input": "2020-11-16T12:51:19.375000Z",
     "iopub.status.busy": "2020-11-16T12:51:19.369406Z",
     "iopub.status.idle": "2020-11-16T12:51:19.542895Z",
     "shell.execute_reply": "2020-11-16T12:51:19.542209Z"
    },
    "papermill": {
     "duration": 0.317015,
     "end_time": "2020-11-16T12:51:19.543044",
     "exception": false,
     "start_time": "2020-11-16T12:51:19.226029",
     "status": "completed"
    },
    "tags": []
   },
   "outputs": [
    {
     "data": {
      "image/png": "[encoded data removed]",
      "text/plain": [
       "<Figure size 432x288 with 1 Axes>"
      ]
     },
     "metadata": {
      "needs_background": "light"
     },
     "output_type": "display_data"
    }
   ],
   "source": [
    "sns.kdeplot(data=df['Plansets'],shade=False,alpha=0.8)\n",
    "plt.show()"
   ]
  },
  {
   "cell_type": "code",
   "execution_count": 44,
   "metadata": {
    "execution": {
     "iopub.execute_input": "2020-11-16T12:51:19.797464Z",
     "iopub.status.busy": "2020-11-16T12:51:19.796132Z",
     "iopub.status.idle": "2020-11-16T12:51:19.845646Z",
     "shell.execute_reply": "2020-11-16T12:51:19.844197Z"
    },
    "papermill": {
     "duration": 0.177466,
     "end_time": "2020-11-16T12:51:19.845910",
     "exception": false,
     "start_time": "2020-11-16T12:51:19.668444",
     "status": "completed"
    },
    "tags": []
   },
   "outputs": [],
   "source": [
    "# Calculate first and third quartile\n",
    "first_quartile = df['Plansets'].describe()['25%']\n",
    "third_quartile = df['Plansets'].describe()['75%']\n",
    "\n",
    "# Interquartile range\n",
    "iqr = third_quartile - first_quartile\n",
    "\n",
    "# Remove outliers\n",
    "df = df[(df['Plansets'] > (first_quartile - 3 * iqr)) &\n",
    "            (df['Plansets'] < (third_quartile + 3 * iqr))]"
   ]
  },
  {
   "cell_type": "code",
   "execution_count": 45,
   "metadata": {
    "execution": {
     "iopub.execute_input": "2020-11-16T12:51:20.112762Z",
     "iopub.status.busy": "2020-11-16T12:51:20.111608Z",
     "iopub.status.idle": "2020-11-16T12:51:20.287545Z",
     "shell.execute_reply": "2020-11-16T12:51:20.286828Z"
    },
    "papermill": {
     "duration": 0.311523,
     "end_time": "2020-11-16T12:51:20.287677",
     "exception": false,
     "start_time": "2020-11-16T12:51:19.976154",
     "status": "completed"
    },
    "tags": []
   },
   "outputs": [
    {
     "data": {
      "image/png": "[encoded data removed]",
      "text/plain": [
       "<Figure size 432x288 with 1 Axes>"
      ]
     },
     "metadata": {
      "needs_background": "light"
     },
     "output_type": "display_data"
    }
   ],
   "source": [
    "sns.kdeplot(data=df['Plansets'],shade=False,alpha=0.8)\n",
    "plt.show()\n",
    "#shows decrease in skewness"
   ]
  },
  {
   "cell_type": "code",
   "execution_count": 46,
   "metadata": {
    "execution": {
     "iopub.execute_input": "2020-11-16T12:51:20.549605Z",
     "iopub.status.busy": "2020-11-16T12:51:20.546504Z",
     "iopub.status.idle": "2020-11-16T12:51:20.728609Z",
     "shell.execute_reply": "2020-11-16T12:51:20.727809Z"
    },
    "papermill": {
     "duration": 0.317144,
     "end_time": "2020-11-16T12:51:20.728740",
     "exception": false,
     "start_time": "2020-11-16T12:51:20.411596",
     "status": "completed"
    },
    "tags": []
   },
   "outputs": [
    {
     "data": {
      "image/png": "[encoded data removed]",
      "text/plain": [
       "<Figure size 432x288 with 1 Axes>"
      ]
     },
     "metadata": {
      "needs_background": "light"
     },
     "output_type": "display_data"
    }
   ],
   "source": [
    "sns.kdeplot(data=df['Revised Cost'],shade=False,alpha=0.8)\n",
    "plt.show()"
   ]
  },
  {
   "cell_type": "code",
   "execution_count": 47,
   "metadata": {
    "execution": {
     "iopub.execute_input": "2020-11-16T12:51:20.984450Z",
     "iopub.status.busy": "2020-11-16T12:51:20.983602Z",
     "iopub.status.idle": "2020-11-16T12:51:21.031365Z",
     "shell.execute_reply": "2020-11-16T12:51:21.030651Z"
    },
    "papermill": {
     "duration": 0.179153,
     "end_time": "2020-11-16T12:51:21.031516",
     "exception": false,
     "start_time": "2020-11-16T12:51:20.852363",
     "status": "completed"
    },
    "tags": []
   },
   "outputs": [],
   "source": [
    "# Calculate first and third quartile\n",
    "first_quartile = df['Revised Cost'].describe()['25%']\n",
    "third_quartile = df['Revised Cost'].describe()['75%']\n",
    "\n",
    "# Interquartile range\n",
    "iqr = third_quartile - first_quartile\n",
    "\n",
    "# Remove outliers\n",
    "df = df[(df['Revised Cost'] > (first_quartile - 3 * iqr)) &\n",
    "            (df['Revised Cost'] < (third_quartile + 3 * iqr))]"
   ]
  },
  {
   "cell_type": "code",
   "execution_count": 48,
   "metadata": {
    "execution": {
     "iopub.execute_input": "2020-11-16T12:51:21.294197Z",
     "iopub.status.busy": "2020-11-16T12:51:21.291829Z",
     "iopub.status.idle": "2020-11-16T12:51:21.467822Z",
     "shell.execute_reply": "2020-11-16T12:51:21.467133Z"
    },
    "papermill": {
     "duration": 0.312944,
     "end_time": "2020-11-16T12:51:21.467955",
     "exception": false,
     "start_time": "2020-11-16T12:51:21.155011",
     "status": "completed"
    },
    "tags": []
   },
   "outputs": [
    {
     "data": {
      "image/png": "[encoded data removed]",
      "text/plain": [
       "<Figure size 432x288 with 1 Axes>"
      ]
     },
     "metadata": {
      "needs_background": "light"
     },
     "output_type": "display_data"
    }
   ],
   "source": [
    "sns.kdeplot(data=df['Revised Cost'],shade=False,alpha=0.8)\n",
    "plt.show()"
   ]
  },
  {
   "cell_type": "code",
   "execution_count": 49,
   "metadata": {
    "execution": {
     "iopub.execute_input": "2020-11-16T12:51:21.735306Z",
     "iopub.status.busy": "2020-11-16T12:51:21.733018Z",
     "iopub.status.idle": "2020-11-16T12:51:21.923924Z",
     "shell.execute_reply": "2020-11-16T12:51:21.924922Z"
    },
    "papermill": {
     "duration": 0.332997,
     "end_time": "2020-11-16T12:51:21.925205",
     "exception": false,
     "start_time": "2020-11-16T12:51:21.592208",
     "status": "completed"
    },
    "tags": []
   },
   "outputs": [
    {
     "data": {
      "image/png": "[encoded data removed]",
      "text/plain": [
       "<Figure size 432x288 with 1 Axes>"
      ]
     },
     "metadata": {
      "needs_background": "light"
     },
     "output_type": "display_data"
    }
   ],
   "source": [
    "sns.kdeplot(data=df['Existing Units'],shade=False,alpha=0.8)\n",
    "plt.show()"
   ]
  },
  {
   "cell_type": "code",
   "execution_count": 50,
   "metadata": {
    "execution": {
     "iopub.execute_input": "2020-11-16T12:51:22.223183Z",
     "iopub.status.busy": "2020-11-16T12:51:22.221934Z",
     "iopub.status.idle": "2020-11-16T12:51:22.269948Z",
     "shell.execute_reply": "2020-11-16T12:51:22.269150Z"
    },
    "papermill": {
     "duration": 0.203048,
     "end_time": "2020-11-16T12:51:22.270076",
     "exception": false,
     "start_time": "2020-11-16T12:51:22.067028",
     "status": "completed"
    },
    "tags": []
   },
   "outputs": [],
   "source": [
    "# Calculate first and third quartile\n",
    "first_quartile = df['Existing Units'].describe()['25%']\n",
    "third_quartile = df['Existing Units'].describe()['75%']\n",
    "\n",
    "# Interquartile range\n",
    "iqr = third_quartile - first_quartile\n",
    "\n",
    "# Remove outliers\n",
    "df = df[(df['Existing Units'] > (first_quartile - 3 * iqr)) &\n",
    "            (df['Existing Units'] < (third_quartile + 3 * iqr))]"
   ]
  },
  {
   "cell_type": "code",
   "execution_count": 51,
   "metadata": {
    "execution": {
     "iopub.execute_input": "2020-11-16T12:51:22.549158Z",
     "iopub.status.busy": "2020-11-16T12:51:22.545599Z",
     "iopub.status.idle": "2020-11-16T12:51:22.743667Z",
     "shell.execute_reply": "2020-11-16T12:51:22.744211Z"
    },
    "papermill": {
     "duration": 0.342859,
     "end_time": "2020-11-16T12:51:22.744392",
     "exception": false,
     "start_time": "2020-11-16T12:51:22.401533",
     "status": "completed"
    },
    "tags": []
   },
   "outputs": [
    {
     "data": {
      "image/png": "[encoded data removed]",
      "text/plain": [
       "<Figure size 432x288 with 1 Axes>"
      ]
     },
     "metadata": {
      "needs_background": "light"
     },
     "output_type": "display_data"
    }
   ],
   "source": [
    "sns.kdeplot(data=df['Existing Units'],shade=False,alpha=0.8)\n",
    "plt.show()"
   ]
  },
  {
   "cell_type": "code",
   "execution_count": 52,
   "metadata": {
    "execution": {
     "iopub.execute_input": "2020-11-16T12:51:23.023672Z",
     "iopub.status.busy": "2020-11-16T12:51:23.018361Z",
     "iopub.status.idle": "2020-11-16T12:51:23.219622Z",
     "shell.execute_reply": "2020-11-16T12:51:23.218767Z"
    },
    "papermill": {
     "duration": 0.344291,
     "end_time": "2020-11-16T12:51:23.219755",
     "exception": false,
     "start_time": "2020-11-16T12:51:22.875464",
     "status": "completed"
    },
    "tags": []
   },
   "outputs": [
    {
     "data": {
      "image/png": "[encoded data removed]",
      "text/plain": [
       "<Figure size 432x288 with 1 Axes>"
      ]
     },
     "metadata": {
      "needs_background": "light"
     },
     "output_type": "display_data"
    }
   ],
   "source": [
    "sns.kdeplot(data=df['Proposed Units'],shade=False,alpha=0.8)\n",
    "plt.show()"
   ]
  },
  {
   "cell_type": "code",
   "execution_count": 53,
   "metadata": {
    "execution": {
     "iopub.execute_input": "2020-11-16T12:51:23.490189Z",
     "iopub.status.busy": "2020-11-16T12:51:23.489437Z",
     "iopub.status.idle": "2020-11-16T12:51:23.530041Z",
     "shell.execute_reply": "2020-11-16T12:51:23.529303Z"
    },
    "papermill": {
     "duration": 0.179082,
     "end_time": "2020-11-16T12:51:23.530166",
     "exception": false,
     "start_time": "2020-11-16T12:51:23.351084",
     "status": "completed"
    },
    "tags": []
   },
   "outputs": [],
   "source": [
    "# Calculate first and third quartile\n",
    "first_quartile = df['Proposed Units'].describe()['25%']\n",
    "third_quartile = df['Proposed Units'].describe()['75%']\n",
    "\n",
    "# Interquartile range\n",
    "iqr = third_quartile - first_quartile\n",
    "\n",
    "# Remove outliers\n",
    "df =df[(df['Proposed Units'] > (first_quartile - 3 * iqr)) &\n",
    "            (df['Proposed Units'] < (third_quartile + 3 * iqr))]"
   ]
  },
  {
   "cell_type": "code",
   "execution_count": 54,
   "metadata": {
    "execution": {
     "iopub.execute_input": "2020-11-16T12:51:23.797893Z",
     "iopub.status.busy": "2020-11-16T12:51:23.790884Z",
     "iopub.status.idle": "2020-11-16T12:51:23.973806Z",
     "shell.execute_reply": "2020-11-16T12:51:23.973171Z"
    },
    "papermill": {
     "duration": 0.316417,
     "end_time": "2020-11-16T12:51:23.973930",
     "exception": false,
     "start_time": "2020-11-16T12:51:23.657513",
     "status": "completed"
    },
    "tags": []
   },
   "outputs": [
    {
     "data": {
      "image/png": "[encoded data removed]",
      "text/plain": [
       "<Figure size 432x288 with 1 Axes>"
      ]
     },
     "metadata": {
      "needs_background": "light"
     },
     "output_type": "display_data"
    }
   ],
   "source": [
    "sns.kdeplot(data=df['Proposed Units'],shade=False,alpha=0.8)\n",
    "plt.show()"
   ]
  },
  {
   "cell_type": "code",
   "execution_count": 55,
   "metadata": {
    "execution": {
     "iopub.execute_input": "2020-11-16T12:51:24.238540Z",
     "iopub.status.busy": "2020-11-16T12:51:24.237371Z",
     "iopub.status.idle": "2020-11-16T12:51:24.242733Z",
     "shell.execute_reply": "2020-11-16T12:51:24.241956Z"
    },
    "papermill": {
     "duration": 0.139558,
     "end_time": "2020-11-16T12:51:24.242861",
     "exception": false,
     "start_time": "2020-11-16T12:51:24.103303",
     "status": "completed"
    },
    "tags": []
   },
   "outputs": [
    {
     "data": {
      "text/plain": [
       "(60597, 35)"
      ]
     },
     "execution_count": 55,
     "metadata": {},
     "output_type": "execute_result"
    }
   ],
   "source": [
    "df.shape #New shape after removing outliers."
   ]
  },
  {
   "cell_type": "code",
   "execution_count": 56,
   "metadata": {
    "execution": {
     "iopub.execute_input": "2020-11-16T12:51:24.507583Z",
     "iopub.status.busy": "2020-11-16T12:51:24.506813Z",
     "iopub.status.idle": "2020-11-16T12:51:24.545392Z",
     "shell.execute_reply": "2020-11-16T12:51:24.546072Z"
    },
    "papermill": {
     "duration": 0.173315,
     "end_time": "2020-11-16T12:51:24.546254",
     "exception": false,
     "start_time": "2020-11-16T12:51:24.372939",
     "status": "completed"
    },
    "tags": []
   },
   "outputs": [],
   "source": [
    "correlation_matrix =df.corr()['Time_in_Days'].sort_values()"
   ]
  },
  {
   "cell_type": "code",
   "execution_count": 57,
   "metadata": {
    "execution": {
     "iopub.execute_input": "2020-11-16T12:51:24.813330Z",
     "iopub.status.busy": "2020-11-16T12:51:24.812437Z",
     "iopub.status.idle": "2020-11-16T12:51:24.816986Z",
     "shell.execute_reply": "2020-11-16T12:51:24.816275Z"
    },
    "papermill": {
     "duration": 0.141435,
     "end_time": "2020-11-16T12:51:24.817107",
     "exception": false,
     "start_time": "2020-11-16T12:51:24.675672",
     "status": "completed"
    },
    "tags": []
   },
   "outputs": [
    {
     "data": {
      "text/plain": [
       "Permit Type                  -0.598427\n",
       "Number of Existing Stories   -0.023739\n",
       "Number of Proposed Stories   -0.023137\n",
       "Existing Units               -0.020114\n",
       "Record ID                    -0.014199\n",
       "Zipcode                      -0.010964\n",
       "Proposed Units               -0.006760\n",
       "Name: Time_in_Days, dtype: float64"
      ]
     },
     "execution_count": 57,
     "metadata": {},
     "output_type": "execute_result"
    }
   ],
   "source": [
    "#printing the most negative and least correlations\n",
    "correlation_matrix.head(7)"
   ]
  },
  {
   "cell_type": "code",
   "execution_count": 58,
   "metadata": {
    "execution": {
     "iopub.execute_input": "2020-11-16T12:51:25.084690Z",
     "iopub.status.busy": "2020-11-16T12:51:25.083791Z",
     "iopub.status.idle": "2020-11-16T12:51:25.088421Z",
     "shell.execute_reply": "2020-11-16T12:51:25.087792Z"
    },
    "papermill": {
     "duration": 0.14139,
     "end_time": "2020-11-16T12:51:25.088549",
     "exception": false,
     "start_time": "2020-11-16T12:51:24.947159",
     "status": "completed"
    },
    "tags": []
   },
   "outputs": [
    {
     "data": {
      "text/plain": [
       "Proposed Construction Type    0.006561\n",
       "Street Number                 0.010271\n",
       "Supervisor District           0.015798\n",
       "Estimated Cost                0.117912\n",
       "Revised Cost                  0.165122\n",
       "Plansets                      0.240864\n",
       "Time_in_Days                  1.000000\n",
       "Name: Time_in_Days, dtype: float64"
      ]
     },
     "execution_count": 58,
     "metadata": {},
     "output_type": "execute_result"
    }
   ],
   "source": [
    "correlation_matrix.tail(7)"
   ]
  },
  {
   "cell_type": "code",
   "execution_count": 59,
   "metadata": {
    "execution": {
     "iopub.execute_input": "2020-11-16T12:51:25.377905Z",
     "iopub.status.busy": "2020-11-16T12:51:25.376747Z",
     "iopub.status.idle": "2020-11-16T12:51:25.394185Z",
     "shell.execute_reply": "2020-11-16T12:51:25.395035Z"
    },
    "papermill": {
     "duration": 0.172138,
     "end_time": "2020-11-16T12:51:25.395308",
     "exception": false,
     "start_time": "2020-11-16T12:51:25.223170",
     "status": "completed"
    },
    "tags": []
   },
   "outputs": [
    {
     "data": {
      "text/plain": [
       "8    58984\n",
       "3     1612\n",
       "2        1\n",
       "Name: Permit Type, dtype: int64"
      ]
     },
     "execution_count": 59,
     "metadata": {},
     "output_type": "execute_result"
    }
   ],
   "source": [
    "types = (df['Permit Type'].value_counts())\n",
    "types"
   ]
  },
  {
   "cell_type": "code",
   "execution_count": 60,
   "metadata": {
    "execution": {
     "iopub.execute_input": "2020-11-16T12:51:25.706186Z",
     "iopub.status.busy": "2020-11-16T12:51:25.705428Z",
     "iopub.status.idle": "2020-11-16T12:51:25.710716Z",
     "shell.execute_reply": "2020-11-16T12:51:25.709866Z"
    },
    "papermill": {
     "duration": 0.155208,
     "end_time": "2020-11-16T12:51:25.710868",
     "exception": false,
     "start_time": "2020-11-16T12:51:25.555660",
     "status": "completed"
    },
    "tags": []
   },
   "outputs": [
    {
     "data": {
      "text/plain": [
       "[8, 3]"
      ]
     },
     "execution_count": 60,
     "metadata": {},
     "output_type": "execute_result"
    }
   ],
   "source": [
    "types = list(types[types.values > 300].index)\n",
    "types"
   ]
  },
  {
   "cell_type": "code",
   "execution_count": 61,
   "metadata": {
    "execution": {
     "iopub.execute_input": "2020-11-16T12:51:25.989561Z",
     "iopub.status.busy": "2020-11-16T12:51:25.987466Z",
     "iopub.status.idle": "2020-11-16T12:51:26.266310Z",
     "shell.execute_reply": "2020-11-16T12:51:26.265710Z"
    },
    "papermill": {
     "duration": 0.417793,
     "end_time": "2020-11-16T12:51:26.266464",
     "exception": false,
     "start_time": "2020-11-16T12:51:25.848671",
     "status": "completed"
    },
    "tags": []
   },
   "outputs": [
    {
     "data": {
      "image/png": "[encoded data removed]",
      "text/plain": [
       "<Figure size 576x432 with 1 Axes>"
      ]
     },
     "metadata": {
      "needs_background": "light"
     },
     "output_type": "display_data"
    }
   ],
   "source": [
    "fig=plt.figure(figsize=(8,6))\n",
    "plt.hist(types,bins=50)\n",
    "plt.show()"
   ]
  },
  {
   "cell_type": "code",
   "execution_count": 62,
   "metadata": {
    "execution": {
     "iopub.execute_input": "2020-11-16T12:51:27.090458Z",
     "iopub.status.busy": "2020-11-16T12:51:27.089588Z",
     "iopub.status.idle": "2020-11-16T12:51:27.093651Z",
     "shell.execute_reply": "2020-11-16T12:51:27.093014Z"
    },
    "papermill": {
     "duration": 0.14407,
     "end_time": "2020-11-16T12:51:27.093780",
     "exception": false,
     "start_time": "2020-11-16T12:51:26.949710",
     "status": "completed"
    },
    "tags": []
   },
   "outputs": [],
   "source": [
    "cat_col = ['Permit Type','Street Number','Existing Construction Type','Zipcode','Supervisor District']"
   ]
  },
  {
   "cell_type": "code",
   "execution_count": 63,
   "metadata": {
    "execution": {
     "iopub.execute_input": "2020-11-16T12:51:27.542680Z",
     "iopub.status.busy": "2020-11-16T12:51:27.541582Z",
     "iopub.status.idle": "2020-11-16T12:51:27.719322Z",
     "shell.execute_reply": "2020-11-16T12:51:27.718541Z"
    },
    "papermill": {
     "duration": 0.490695,
     "end_time": "2020-11-16T12:51:27.719452",
     "exception": false,
     "start_time": "2020-11-16T12:51:27.228757",
     "status": "completed"
    },
    "tags": []
   },
   "outputs": [],
   "source": [
    "df[cat_col]=df[cat_col].astype('str')"
   ]
  },
  {
   "cell_type": "code",
   "execution_count": 64,
   "metadata": {
    "execution": {
     "iopub.execute_input": "2020-11-16T12:51:28.000644Z",
     "iopub.status.busy": "2020-11-16T12:51:27.999815Z",
     "iopub.status.idle": "2020-11-16T12:51:28.005838Z",
     "shell.execute_reply": "2020-11-16T12:51:28.005087Z"
    },
    "papermill": {
     "duration": 0.150289,
     "end_time": "2020-11-16T12:51:28.005971",
     "exception": false,
     "start_time": "2020-11-16T12:51:27.855682",
     "status": "completed"
    },
    "tags": []
   },
   "outputs": [
    {
     "data": {
      "text/plain": [
       "Permit Type                                       object\n",
       "Permit Type Definition                            object\n",
       "Permit Creation Date                              object\n",
       "Block                                             object\n",
       "Lot                                               object\n",
       "Street Number                                     object\n",
       "Street Name                                       object\n",
       "Street Suffix                                     object\n",
       "Description                                       object\n",
       "Current Status                                    object\n",
       "Current Status Date                               object\n",
       "Filed Date                                datetime64[ns]\n",
       "Issued Date                               datetime64[ns]\n",
       "Completed Date                                    object\n",
       "First Construction Document Date                  object\n",
       "Number of Existing Stories                       float64\n",
       "Number of Proposed Stories                       float64\n",
       "Permit Expiration Date                            object\n",
       "Estimated Cost                                   float64\n",
       "Revised Cost                                     float64\n",
       "Existing Use                                      object\n",
       "Existing Units                                   float64\n",
       "Proposed Use                                      object\n",
       "Proposed Units                                   float64\n",
       "Plansets                                         float64\n",
       "Existing Construction Type                        object\n",
       "Existing Construction Type Description            object\n",
       "Proposed Construction Type                       float64\n",
       "Proposed Construction Type Description            object\n",
       "Supervisor District                               object\n",
       "Neighborhoods - Analysis Boundaries               object\n",
       "Zipcode                                           object\n",
       "Location                                          object\n",
       "Record ID                                          int64\n",
       "Time_in_Days                                       int64\n",
       "dtype: object"
      ]
     },
     "execution_count": 64,
     "metadata": {},
     "output_type": "execute_result"
    }
   ],
   "source": [
    "df.dtypes # to verify that our data types"
   ]
  },
  {
   "cell_type": "markdown",
   "metadata": {
    "papermill": {
     "duration": 0.134952,
     "end_time": "2020-11-16T12:51:28.276298",
     "exception": false,
     "start_time": "2020-11-16T12:51:28.141346",
     "status": "completed"
    },
    "tags": []
   },
   "source": [
    "**Dropping of Filed Date and Issued dates since they are nolonger informative in our modelling,\n",
    "We drop Record ID since  we already have a unique record identifier,\n",
    "we also drop locationn since it's not so informative as we already have a supervisor district which gives us a hint on the area the building is located,\n",
    "we also drop columns that could be colinear to other columns in the data and hence lead to overfitting\n",
    "These include:Number of existing stories,estimated cost,existing units**"
   ]
  },
  {
   "cell_type": "code",
   "execution_count": 65,
   "metadata": {
    "execution": {
     "iopub.execute_input": "2020-11-16T12:51:28.570198Z",
     "iopub.status.busy": "2020-11-16T12:51:28.569058Z",
     "iopub.status.idle": "2020-11-16T12:51:28.625098Z",
     "shell.execute_reply": "2020-11-16T12:51:28.624430Z"
    },
    "papermill": {
     "duration": 0.199964,
     "end_time": "2020-11-16T12:51:28.625225",
     "exception": false,
     "start_time": "2020-11-16T12:51:28.425261",
     "status": "completed"
    },
    "tags": []
   },
   "outputs": [],
   "source": [
    "df.drop(columns =list(['Filed Date','Issued Date','Record ID','Location',\n",
    "                           'Number of Existing Stories','Estimated Cost',\n",
    "                           'Existing Units','Current Status']),axis=1,inplace=True) "
   ]
  },
  {
   "cell_type": "code",
   "execution_count": 66,
   "metadata": {
    "execution": {
     "iopub.execute_input": "2020-11-16T12:51:28.944624Z",
     "iopub.status.busy": "2020-11-16T12:51:28.943346Z",
     "iopub.status.idle": "2020-11-16T12:51:28.947395Z",
     "shell.execute_reply": "2020-11-16T12:51:28.947969Z"
    },
    "papermill": {
     "duration": 0.176632,
     "end_time": "2020-11-16T12:51:28.948120",
     "exception": false,
     "start_time": "2020-11-16T12:51:28.771488",
     "status": "completed"
    },
    "tags": []
   },
   "outputs": [
    {
     "data": {
      "text/html": [
       "<div>\n",
       "<style scoped>\n",
       "    .dataframe tbody tr th:only-of-type {\n",
       "        vertical-align: middle;\n",
       "    }\n",
       "\n",
       "    .dataframe tbody tr th {\n",
       "        vertical-align: top;\n",
       "    }\n",
       "\n",
       "    .dataframe thead th {\n",
       "        text-align: right;\n",
       "    }\n",
       "</style>\n",
       "<table border=\"1\" class=\"dataframe\">\n",
       "  <thead>\n",
       "    <tr style=\"text-align: right;\">\n",
       "      <th></th>\n",
       "      <th>Permit Type</th>\n",
       "      <th>Permit Type Definition</th>\n",
       "      <th>Permit Creation Date</th>\n",
       "      <th>Block</th>\n",
       "      <th>Lot</th>\n",
       "      <th>Street Number</th>\n",
       "      <th>Street Name</th>\n",
       "      <th>Street Suffix</th>\n",
       "      <th>Description</th>\n",
       "      <th>Current Status Date</th>\n",
       "      <th>Completed Date</th>\n",
       "      <th>First Construction Document Date</th>\n",
       "      <th>Number of Proposed Stories</th>\n",
       "      <th>Permit Expiration Date</th>\n",
       "      <th>Revised Cost</th>\n",
       "      <th>Existing Use</th>\n",
       "      <th>Proposed Use</th>\n",
       "      <th>Proposed Units</th>\n",
       "      <th>Plansets</th>\n",
       "      <th>Existing Construction Type</th>\n",
       "      <th>Existing Construction Type Description</th>\n",
       "      <th>Proposed Construction Type</th>\n",
       "      <th>Proposed Construction Type Description</th>\n",
       "      <th>Supervisor District</th>\n",
       "      <th>Neighborhoods - Analysis Boundaries</th>\n",
       "      <th>Zipcode</th>\n",
       "      <th>Time_in_Days</th>\n",
       "    </tr>\n",
       "    <tr>\n",
       "      <th>Permit Number</th>\n",
       "      <th></th>\n",
       "      <th></th>\n",
       "      <th></th>\n",
       "      <th></th>\n",
       "      <th></th>\n",
       "      <th></th>\n",
       "      <th></th>\n",
       "      <th></th>\n",
       "      <th></th>\n",
       "      <th></th>\n",
       "      <th></th>\n",
       "      <th></th>\n",
       "      <th></th>\n",
       "      <th></th>\n",
       "      <th></th>\n",
       "      <th></th>\n",
       "      <th></th>\n",
       "      <th></th>\n",
       "      <th></th>\n",
       "      <th></th>\n",
       "      <th></th>\n",
       "      <th></th>\n",
       "      <th></th>\n",
       "      <th></th>\n",
       "      <th></th>\n",
       "      <th></th>\n",
       "      <th></th>\n",
       "    </tr>\n",
       "  </thead>\n",
       "  <tbody>\n",
       "    <tr>\n",
       "      <th>201611072166</th>\n",
       "      <td>8</td>\n",
       "      <td>otc alterations permit</td>\n",
       "      <td>11/07/2016</td>\n",
       "      <td>0156</td>\n",
       "      <td>011</td>\n",
       "      <td>1230</td>\n",
       "      <td>Pacific</td>\n",
       "      <td>Av</td>\n",
       "      <td>repair dryrot &amp; stucco at front of bldg.</td>\n",
       "      <td>07/24/2017</td>\n",
       "      <td>07/24/2017</td>\n",
       "      <td>07/18/2017</td>\n",
       "      <td>2.0</td>\n",
       "      <td>07/13/2018</td>\n",
       "      <td>2000.0</td>\n",
       "      <td>1 family dwelling</td>\n",
       "      <td>1 family dwelling</td>\n",
       "      <td>1.0</td>\n",
       "      <td>2.0</td>\n",
       "      <td>5.0</td>\n",
       "      <td>wood frame (5)</td>\n",
       "      <td>5.0</td>\n",
       "      <td>wood frame (5)</td>\n",
       "      <td>3.0</td>\n",
       "      <td>Nob Hill</td>\n",
       "      <td>94109.0</td>\n",
       "      <td>253</td>\n",
       "    </tr>\n",
       "  </tbody>\n",
       "</table>\n",
       "</div>"
      ],
      "text/plain": [
       "              Permit Type  Permit Type Definition Permit Creation Date Block  \\\n",
       "Permit Number                                                                  \n",
       "201611072166            8  otc alterations permit           11/07/2016  0156   \n",
       "\n",
       "               Lot Street Number Street Name Street Suffix  \\\n",
       "Permit Number                                                \n",
       "201611072166   011          1230     Pacific            Av   \n",
       "\n",
       "                                            Description Current Status Date  \\\n",
       "Permit Number                                                                 \n",
       "201611072166   repair dryrot & stucco at front of bldg.          07/24/2017   \n",
       "\n",
       "              Completed Date First Construction Document Date  \\\n",
       "Permit Number                                                   \n",
       "201611072166      07/24/2017                       07/18/2017   \n",
       "\n",
       "               Number of Proposed Stories Permit Expiration Date  \\\n",
       "Permit Number                                                      \n",
       "201611072166                          2.0             07/13/2018   \n",
       "\n",
       "               Revised Cost       Existing Use       Proposed Use  \\\n",
       "Permit Number                                                       \n",
       "201611072166         2000.0  1 family dwelling  1 family dwelling   \n",
       "\n",
       "               Proposed Units  Plansets Existing Construction Type  \\\n",
       "Permit Number                                                        \n",
       "201611072166              1.0       2.0                        5.0   \n",
       "\n",
       "              Existing Construction Type Description  \\\n",
       "Permit Number                                          \n",
       "201611072166                          wood frame (5)   \n",
       "\n",
       "               Proposed Construction Type  \\\n",
       "Permit Number                               \n",
       "201611072166                          5.0   \n",
       "\n",
       "              Proposed Construction Type Description Supervisor District  \\\n",
       "Permit Number                                                              \n",
       "201611072166                          wood frame (5)                 3.0   \n",
       "\n",
       "              Neighborhoods - Analysis Boundaries  Zipcode  Time_in_Days  \n",
       "Permit Number                                                             \n",
       "201611072166                             Nob Hill  94109.0           253  "
      ]
     },
     "execution_count": 66,
     "metadata": {},
     "output_type": "execute_result"
    }
   ],
   "source": [
    "df.head(1)# shows that we have dropped the above mentioned columns."
   ]
  },
  {
   "cell_type": "code",
   "execution_count": 67,
   "metadata": {
    "execution": {
     "iopub.execute_input": "2020-11-16T12:51:29.233398Z",
     "iopub.status.busy": "2020-11-16T12:51:29.232425Z",
     "iopub.status.idle": "2020-11-16T12:51:29.237132Z",
     "shell.execute_reply": "2020-11-16T12:51:29.236552Z"
    },
    "papermill": {
     "duration": 0.148114,
     "end_time": "2020-11-16T12:51:29.237270",
     "exception": false,
     "start_time": "2020-11-16T12:51:29.089156",
     "status": "completed"
    },
    "tags": []
   },
   "outputs": [
    {
     "data": {
      "text/plain": [
       "(60597, 27)"
      ]
     },
     "execution_count": 67,
     "metadata": {},
     "output_type": "execute_result"
    }
   ],
   "source": [
    "df.shape"
   ]
  },
  {
   "cell_type": "code",
   "execution_count": 68,
   "metadata": {
    "execution": {
     "iopub.execute_input": "2020-11-16T12:51:29.520487Z",
     "iopub.status.busy": "2020-11-16T12:51:29.519695Z",
     "iopub.status.idle": "2020-11-16T12:51:29.535984Z",
     "shell.execute_reply": "2020-11-16T12:51:29.535194Z"
    },
    "papermill": {
     "duration": 0.160664,
     "end_time": "2020-11-16T12:51:29.536114",
     "exception": false,
     "start_time": "2020-11-16T12:51:29.375450",
     "status": "completed"
    },
    "tags": []
   },
   "outputs": [],
   "source": [
    "y=pd.DataFrame(df['Time_in_Days'])\n",
    "X =df.drop(['Time_in_Days'],axis=1)"
   ]
  },
  {
   "cell_type": "code",
   "execution_count": 69,
   "metadata": {
    "execution": {
     "iopub.execute_input": "2020-11-16T12:51:29.823893Z",
     "iopub.status.busy": "2020-11-16T12:51:29.822872Z",
     "iopub.status.idle": "2020-11-16T12:51:30.000980Z",
     "shell.execute_reply": "2020-11-16T12:51:30.000308Z"
    },
    "papermill": {
     "duration": 0.327173,
     "end_time": "2020-11-16T12:51:30.001109",
     "exception": false,
     "start_time": "2020-11-16T12:51:29.673936",
     "status": "completed"
    },
    "tags": []
   },
   "outputs": [],
   "source": [
    "# \"Cardinality\" means the number of unique values in a column\n",
    "# Select categorical columns with relatively low cardinality\n",
    "categorical_cols = [cname for cname in X.columns \n",
    "                    if X[cname].nunique() < 10 and X[cname].dtype == \"object\"]"
   ]
  },
  {
   "cell_type": "code",
   "execution_count": 70,
   "metadata": {
    "execution": {
     "iopub.execute_input": "2020-11-16T12:51:30.283032Z",
     "iopub.status.busy": "2020-11-16T12:51:30.282227Z",
     "iopub.status.idle": "2020-11-16T12:51:30.369101Z",
     "shell.execute_reply": "2020-11-16T12:51:30.368351Z"
    },
    "papermill": {
     "duration": 0.229326,
     "end_time": "2020-11-16T12:51:30.369257",
     "exception": false,
     "start_time": "2020-11-16T12:51:30.139931",
     "status": "completed"
    },
    "tags": []
   },
   "outputs": [],
   "source": [
    "categorical_colsOH= pd.get_dummies(X[categorical_cols])"
   ]
  },
  {
   "cell_type": "code",
   "execution_count": 71,
   "metadata": {
    "execution": {
     "iopub.execute_input": "2020-11-16T12:51:30.692619Z",
     "iopub.status.busy": "2020-11-16T12:51:30.691630Z",
     "iopub.status.idle": "2020-11-16T12:51:30.696731Z",
     "shell.execute_reply": "2020-11-16T12:51:30.696055Z"
    },
    "papermill": {
     "duration": 0.147753,
     "end_time": "2020-11-16T12:51:30.696855",
     "exception": false,
     "start_time": "2020-11-16T12:51:30.549102",
     "status": "completed"
    },
    "tags": []
   },
   "outputs": [
    {
     "data": {
      "text/plain": [
       "(60597, 21)"
      ]
     },
     "execution_count": 71,
     "metadata": {},
     "output_type": "execute_result"
    }
   ],
   "source": [
    "categorical_colsOH.shape"
   ]
  },
  {
   "cell_type": "code",
   "execution_count": 72,
   "metadata": {
    "execution": {
     "iopub.execute_input": "2020-11-16T12:51:30.999169Z",
     "iopub.status.busy": "2020-11-16T12:51:30.998315Z",
     "iopub.status.idle": "2020-11-16T12:51:31.003495Z",
     "shell.execute_reply": "2020-11-16T12:51:31.002905Z"
    },
    "papermill": {
     "duration": 0.165417,
     "end_time": "2020-11-16T12:51:31.003621",
     "exception": false,
     "start_time": "2020-11-16T12:51:30.838204",
     "status": "completed"
    },
    "tags": []
   },
   "outputs": [
    {
     "data": {
      "text/html": [
       "<div>\n",
       "<style scoped>\n",
       "    .dataframe tbody tr th:only-of-type {\n",
       "        vertical-align: middle;\n",
       "    }\n",
       "\n",
       "    .dataframe tbody tr th {\n",
       "        vertical-align: top;\n",
       "    }\n",
       "\n",
       "    .dataframe thead th {\n",
       "        text-align: right;\n",
       "    }\n",
       "</style>\n",
       "<table border=\"1\" class=\"dataframe\">\n",
       "  <thead>\n",
       "    <tr style=\"text-align: right;\">\n",
       "      <th></th>\n",
       "      <th>Permit Type_2</th>\n",
       "      <th>Permit Type_3</th>\n",
       "      <th>Permit Type_8</th>\n",
       "      <th>Permit Type Definition_additions alterations or repairs</th>\n",
       "      <th>Permit Type Definition_new construction wood frame</th>\n",
       "      <th>Permit Type Definition_otc alterations permit</th>\n",
       "      <th>Existing Construction Type_1.0</th>\n",
       "      <th>Existing Construction Type_2.0</th>\n",
       "      <th>Existing Construction Type_3.0</th>\n",
       "      <th>Existing Construction Type_4.0</th>\n",
       "      <th>Existing Construction Type_5.0</th>\n",
       "      <th>Existing Construction Type Description_constr type 1</th>\n",
       "      <th>Existing Construction Type Description_constr type 2</th>\n",
       "      <th>Existing Construction Type Description_constr type 3</th>\n",
       "      <th>Existing Construction Type Description_constr type 4</th>\n",
       "      <th>Existing Construction Type Description_wood frame (5)</th>\n",
       "      <th>Proposed Construction Type Description_constr type 1</th>\n",
       "      <th>Proposed Construction Type Description_constr type 2</th>\n",
       "      <th>Proposed Construction Type Description_constr type 3</th>\n",
       "      <th>Proposed Construction Type Description_constr type 4</th>\n",
       "      <th>Proposed Construction Type Description_wood frame (5)</th>\n",
       "    </tr>\n",
       "    <tr>\n",
       "      <th>Permit Number</th>\n",
       "      <th></th>\n",
       "      <th></th>\n",
       "      <th></th>\n",
       "      <th></th>\n",
       "      <th></th>\n",
       "      <th></th>\n",
       "      <th></th>\n",
       "      <th></th>\n",
       "      <th></th>\n",
       "      <th></th>\n",
       "      <th></th>\n",
       "      <th></th>\n",
       "      <th></th>\n",
       "      <th></th>\n",
       "      <th></th>\n",
       "      <th></th>\n",
       "      <th></th>\n",
       "      <th></th>\n",
       "      <th></th>\n",
       "      <th></th>\n",
       "      <th></th>\n",
       "    </tr>\n",
       "  </thead>\n",
       "  <tbody>\n",
       "    <tr>\n",
       "      <th>201611072166</th>\n",
       "      <td>0</td>\n",
       "      <td>0</td>\n",
       "      <td>1</td>\n",
       "      <td>0</td>\n",
       "      <td>0</td>\n",
       "      <td>1</td>\n",
       "      <td>0</td>\n",
       "      <td>0</td>\n",
       "      <td>0</td>\n",
       "      <td>0</td>\n",
       "      <td>1</td>\n",
       "      <td>0</td>\n",
       "      <td>0</td>\n",
       "      <td>0</td>\n",
       "      <td>0</td>\n",
       "      <td>1</td>\n",
       "      <td>0</td>\n",
       "      <td>0</td>\n",
       "      <td>0</td>\n",
       "      <td>0</td>\n",
       "      <td>1</td>\n",
       "    </tr>\n",
       "    <tr>\n",
       "      <th>201710110928</th>\n",
       "      <td>0</td>\n",
       "      <td>0</td>\n",
       "      <td>1</td>\n",
       "      <td>0</td>\n",
       "      <td>0</td>\n",
       "      <td>1</td>\n",
       "      <td>0</td>\n",
       "      <td>0</td>\n",
       "      <td>0</td>\n",
       "      <td>0</td>\n",
       "      <td>1</td>\n",
       "      <td>0</td>\n",
       "      <td>0</td>\n",
       "      <td>0</td>\n",
       "      <td>0</td>\n",
       "      <td>1</td>\n",
       "      <td>0</td>\n",
       "      <td>0</td>\n",
       "      <td>0</td>\n",
       "      <td>0</td>\n",
       "      <td>1</td>\n",
       "    </tr>\n",
       "    <tr>\n",
       "      <th>201408254591</th>\n",
       "      <td>0</td>\n",
       "      <td>0</td>\n",
       "      <td>1</td>\n",
       "      <td>0</td>\n",
       "      <td>0</td>\n",
       "      <td>1</td>\n",
       "      <td>0</td>\n",
       "      <td>0</td>\n",
       "      <td>0</td>\n",
       "      <td>0</td>\n",
       "      <td>1</td>\n",
       "      <td>0</td>\n",
       "      <td>0</td>\n",
       "      <td>0</td>\n",
       "      <td>0</td>\n",
       "      <td>1</td>\n",
       "      <td>0</td>\n",
       "      <td>0</td>\n",
       "      <td>0</td>\n",
       "      <td>0</td>\n",
       "      <td>1</td>\n",
       "    </tr>\n",
       "    <tr>\n",
       "      <th>201604064066</th>\n",
       "      <td>0</td>\n",
       "      <td>0</td>\n",
       "      <td>1</td>\n",
       "      <td>0</td>\n",
       "      <td>0</td>\n",
       "      <td>1</td>\n",
       "      <td>0</td>\n",
       "      <td>0</td>\n",
       "      <td>0</td>\n",
       "      <td>0</td>\n",
       "      <td>1</td>\n",
       "      <td>0</td>\n",
       "      <td>0</td>\n",
       "      <td>0</td>\n",
       "      <td>0</td>\n",
       "      <td>1</td>\n",
       "      <td>0</td>\n",
       "      <td>0</td>\n",
       "      <td>0</td>\n",
       "      <td>0</td>\n",
       "      <td>1</td>\n",
       "    </tr>\n",
       "    <tr>\n",
       "      <th>201609097214</th>\n",
       "      <td>0</td>\n",
       "      <td>0</td>\n",
       "      <td>1</td>\n",
       "      <td>0</td>\n",
       "      <td>0</td>\n",
       "      <td>1</td>\n",
       "      <td>0</td>\n",
       "      <td>0</td>\n",
       "      <td>0</td>\n",
       "      <td>0</td>\n",
       "      <td>1</td>\n",
       "      <td>0</td>\n",
       "      <td>0</td>\n",
       "      <td>0</td>\n",
       "      <td>0</td>\n",
       "      <td>1</td>\n",
       "      <td>0</td>\n",
       "      <td>0</td>\n",
       "      <td>0</td>\n",
       "      <td>0</td>\n",
       "      <td>1</td>\n",
       "    </tr>\n",
       "  </tbody>\n",
       "</table>\n",
       "</div>"
      ],
      "text/plain": [
       "               Permit Type_2  Permit Type_3  Permit Type_8  \\\n",
       "Permit Number                                                \n",
       "201611072166               0              0              1   \n",
       "201710110928               0              0              1   \n",
       "201408254591               0              0              1   \n",
       "201604064066               0              0              1   \n",
       "201609097214               0              0              1   \n",
       "\n",
       "               Permit Type Definition_additions alterations or repairs  \\\n",
       "Permit Number                                                            \n",
       "201611072166                                                   0         \n",
       "201710110928                                                   0         \n",
       "201408254591                                                   0         \n",
       "201604064066                                                   0         \n",
       "201609097214                                                   0         \n",
       "\n",
       "               Permit Type Definition_new construction wood frame  \\\n",
       "Permit Number                                                       \n",
       "201611072166                                                   0    \n",
       "201710110928                                                   0    \n",
       "201408254591                                                   0    \n",
       "201604064066                                                   0    \n",
       "201609097214                                                   0    \n",
       "\n",
       "               Permit Type Definition_otc alterations permit  \\\n",
       "Permit Number                                                  \n",
       "201611072166                                               1   \n",
       "201710110928                                               1   \n",
       "201408254591                                               1   \n",
       "201604064066                                               1   \n",
       "201609097214                                               1   \n",
       "\n",
       "               Existing Construction Type_1.0  Existing Construction Type_2.0  \\\n",
       "Permit Number                                                                   \n",
       "201611072166                                0                               0   \n",
       "201710110928                                0                               0   \n",
       "201408254591                                0                               0   \n",
       "201604064066                                0                               0   \n",
       "201609097214                                0                               0   \n",
       "\n",
       "               Existing Construction Type_3.0  Existing Construction Type_4.0  \\\n",
       "Permit Number                                                                   \n",
       "201611072166                                0                               0   \n",
       "201710110928                                0                               0   \n",
       "201408254591                                0                               0   \n",
       "201604064066                                0                               0   \n",
       "201609097214                                0                               0   \n",
       "\n",
       "               Existing Construction Type_5.0  \\\n",
       "Permit Number                                   \n",
       "201611072166                                1   \n",
       "201710110928                                1   \n",
       "201408254591                                1   \n",
       "201604064066                                1   \n",
       "201609097214                                1   \n",
       "\n",
       "               Existing Construction Type Description_constr type 1  \\\n",
       "Permit Number                                                         \n",
       "201611072166                                                   0      \n",
       "201710110928                                                   0      \n",
       "201408254591                                                   0      \n",
       "201604064066                                                   0      \n",
       "201609097214                                                   0      \n",
       "\n",
       "               Existing Construction Type Description_constr type 2  \\\n",
       "Permit Number                                                         \n",
       "201611072166                                                   0      \n",
       "201710110928                                                   0      \n",
       "201408254591                                                   0      \n",
       "201604064066                                                   0      \n",
       "201609097214                                                   0      \n",
       "\n",
       "               Existing Construction Type Description_constr type 3  \\\n",
       "Permit Number                                                         \n",
       "201611072166                                                   0      \n",
       "201710110928                                                   0      \n",
       "201408254591                                                   0      \n",
       "201604064066                                                   0      \n",
       "201609097214                                                   0      \n",
       "\n",
       "               Existing Construction Type Description_constr type 4  \\\n",
       "Permit Number                                                         \n",
       "201611072166                                                   0      \n",
       "201710110928                                                   0      \n",
       "201408254591                                                   0      \n",
       "201604064066                                                   0      \n",
       "201609097214                                                   0      \n",
       "\n",
       "               Existing Construction Type Description_wood frame (5)  \\\n",
       "Permit Number                                                          \n",
       "201611072166                                                   1       \n",
       "201710110928                                                   1       \n",
       "201408254591                                                   1       \n",
       "201604064066                                                   1       \n",
       "201609097214                                                   1       \n",
       "\n",
       "               Proposed Construction Type Description_constr type 1  \\\n",
       "Permit Number                                                         \n",
       "201611072166                                                   0      \n",
       "201710110928                                                   0      \n",
       "201408254591                                                   0      \n",
       "201604064066                                                   0      \n",
       "201609097214                                                   0      \n",
       "\n",
       "               Proposed Construction Type Description_constr type 2  \\\n",
       "Permit Number                                                         \n",
       "201611072166                                                   0      \n",
       "201710110928                                                   0      \n",
       "201408254591                                                   0      \n",
       "201604064066                                                   0      \n",
       "201609097214                                                   0      \n",
       "\n",
       "               Proposed Construction Type Description_constr type 3  \\\n",
       "Permit Number                                                         \n",
       "201611072166                                                   0      \n",
       "201710110928                                                   0      \n",
       "201408254591                                                   0      \n",
       "201604064066                                                   0      \n",
       "201609097214                                                   0      \n",
       "\n",
       "               Proposed Construction Type Description_constr type 4  \\\n",
       "Permit Number                                                         \n",
       "201611072166                                                   0      \n",
       "201710110928                                                   0      \n",
       "201408254591                                                   0      \n",
       "201604064066                                                   0      \n",
       "201609097214                                                   0      \n",
       "\n",
       "               Proposed Construction Type Description_wood frame (5)  \n",
       "Permit Number                                                         \n",
       "201611072166                                                   1      \n",
       "201710110928                                                   1      \n",
       "201408254591                                                   1      \n",
       "201604064066                                                   1      \n",
       "201609097214                                                   1      "
      ]
     },
     "execution_count": 72,
     "metadata": {},
     "output_type": "execute_result"
    }
   ],
   "source": [
    "categorical_colsOH.head()"
   ]
  },
  {
   "cell_type": "code",
   "execution_count": 73,
   "metadata": {},
   "outputs": [
    {
     "data": {
      "text/plain": [
       "<AxesSubplot:>"
      ]
     },
     "execution_count": 73,
     "metadata": {},
     "output_type": "execute_result"
    },
    {
     "data": {
      "image/png": "[encoded data removed]",
      "text/plain": [
       "<Figure size 1224x1440 with 2 Axes>"
      ]
     },
     "metadata": {
      "needs_background": "light"
     },
     "output_type": "display_data"
    }
   ],
   "source": [
    "plt.figure(figsize  = (17, 20))\n",
    "sns.set_context(\"paper\", font_scale = 1)\n",
    "sns.heatmap(df.corr())"
   ]
  },
  {
   "cell_type": "markdown",
   "metadata": {},
   "source": [
    "There a decent correlation between the months of Issues Date and Filed Date features so gotta look into those. Out of all these, I will be completely ignoring the features such as Street Names and Prefix along with record ID among others. This is because they don't provide enough insights or provide insights that are already too obvious. For example there is significant correlation between the Latitude / Lomgitude and Zipcode features which is quite obvious. We expect that."
   ]
  },
  {
   "cell_type": "markdown",
   "metadata": {},
   "source": [
    "Missing data insight view by visualization"
   ]
  },
  {
   "cell_type": "code",
   "execution_count": null,
   "metadata": {},
   "outputs": [],
   "source": []
  }
 ],
 "metadata": {
  "kernelspec": {
   "display_name": "Python 3.9.12 ('base')",
   "language": "python",
   "name": "python3"
  },
  "language_info": {
   "codemirror_mode": {
    "name": "ipython",
    "version": 3
   },
   "file_extension": ".py",
   "mimetype": "text/x-python",
   "name": "python",
   "nbconvert_exporter": "python",
   "pygments_lexer": "ipython3",
   "version": "3.9.12"
  },
  "papermill": {
   "duration": 5767.582159,
   "end_time": "2020-11-16T14:26:56.810604",
   "environment_variables": {},
   "exception": null,
   "input_path": "__notebook__.ipynb",
   "output_path": "__notebook__.ipynb",
   "parameters": {},
   "start_time": "2020-11-16T12:50:49.228445",
   "version": "2.1.0"
  },
  "vscode": {
   "interpreter": {
    "hash": "74553ec96074b11493372ea4f28444c5bdfae6f280d5f29311282a2f46b5f89e"
   }
  }
 },
 "nbformat": 4,
 "nbformat_minor": 4
}
